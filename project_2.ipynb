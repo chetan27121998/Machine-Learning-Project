{
 "cells": [
  {
   "cell_type": "markdown",
   "metadata": {},
   "source": [
    "##  Problem Definition\n",
    "Based on the introduction the key challenge is to predict if an individual customer will churn or not. To accomplish that, machine learning models are trained based on 80% of the sample data. The remaining 20% are used to apply the trained models and assess their predictive power with regards to “churn / not churn”. A side question will be, which features actually drive customer churn. That information can be used to identify customer “pain points” and resolve them by providing goodies to make customers stay.\n",
    "To compare models and select the best for this task, the accuracy is measured. Based on other characteristics of the data, for example the balance between classes (number of “churners” vs. “non-churners” in data set) further metrics are considered if needed."
   ]
  },
  {
   "cell_type": "code",
   "execution_count": 1,
   "metadata": {
    "executionInfo": {
     "elapsed": 1030,
     "status": "ok",
     "timestamp": 1644230498671,
     "user": {
      "displayName": "Chetan Kate",
      "photoUrl": "https://lh3.googleusercontent.com/a/default-user=s64",
      "userId": "14148496702909736816"
     },
     "user_tz": -330
    },
    "id": "5-2poe2Pjp1J"
   },
   "outputs": [],
   "source": [
    "import numpy as np\n",
    "import matplotlib.pyplot as plt\n",
    "import pandas as pd\n",
    "import seaborn as sns\n",
    "import warnings\n",
    "warnings.filterwarnings('ignore')"
   ]
  },
  {
   "cell_type": "code",
   "execution_count": 2,
   "metadata": {
    "colab": {
     "base_uri": "https://localhost:8080/",
     "height": 661
    },
    "executionInfo": {
     "elapsed": 89,
     "status": "ok",
     "timestamp": 1644230498673,
     "user": {
      "displayName": "Chetan Kate",
      "photoUrl": "https://lh3.googleusercontent.com/a/default-user=s64",
      "userId": "14148496702909736816"
     },
     "user_tz": -330
    },
    "id": "8wdjFSzMjvpm",
    "outputId": "c20b5882-9685-4f44-c4a2-c91f8b099c13"
   },
   "outputs": [
    {
     "data": {
      "text/html": [
       "<div>\n",
       "<style scoped>\n",
       "    .dataframe tbody tr th:only-of-type {\n",
       "        vertical-align: middle;\n",
       "    }\n",
       "\n",
       "    .dataframe tbody tr th {\n",
       "        vertical-align: top;\n",
       "    }\n",
       "\n",
       "    .dataframe thead th {\n",
       "        text-align: right;\n",
       "    }\n",
       "</style>\n",
       "<table border=\"1\" class=\"dataframe\">\n",
       "  <thead>\n",
       "    <tr style=\"text-align: right;\">\n",
       "      <th></th>\n",
       "      <th>customerID</th>\n",
       "      <th>gender</th>\n",
       "      <th>SeniorCitizen</th>\n",
       "      <th>Partner</th>\n",
       "      <th>Dependents</th>\n",
       "      <th>tenure</th>\n",
       "      <th>PhoneService</th>\n",
       "      <th>MultipleLines</th>\n",
       "      <th>InternetService</th>\n",
       "      <th>OnlineSecurity</th>\n",
       "      <th>...</th>\n",
       "      <th>DeviceProtection</th>\n",
       "      <th>TechSupport</th>\n",
       "      <th>StreamingTV</th>\n",
       "      <th>StreamingMovies</th>\n",
       "      <th>Contract</th>\n",
       "      <th>PaperlessBilling</th>\n",
       "      <th>PaymentMethod</th>\n",
       "      <th>MonthlyCharges</th>\n",
       "      <th>TotalCharges</th>\n",
       "      <th>Churn</th>\n",
       "    </tr>\n",
       "  </thead>\n",
       "  <tbody>\n",
       "    <tr>\n",
       "      <th>0</th>\n",
       "      <td>7590-VHVEG</td>\n",
       "      <td>Female</td>\n",
       "      <td>0</td>\n",
       "      <td>Yes</td>\n",
       "      <td>No</td>\n",
       "      <td>1</td>\n",
       "      <td>No</td>\n",
       "      <td>No phone service</td>\n",
       "      <td>DSL</td>\n",
       "      <td>No</td>\n",
       "      <td>...</td>\n",
       "      <td>No</td>\n",
       "      <td>No</td>\n",
       "      <td>No</td>\n",
       "      <td>No</td>\n",
       "      <td>Month-to-month</td>\n",
       "      <td>Yes</td>\n",
       "      <td>Electronic check</td>\n",
       "      <td>29.85</td>\n",
       "      <td>29.85</td>\n",
       "      <td>No</td>\n",
       "    </tr>\n",
       "    <tr>\n",
       "      <th>1</th>\n",
       "      <td>5575-GNVDE</td>\n",
       "      <td>Male</td>\n",
       "      <td>0</td>\n",
       "      <td>No</td>\n",
       "      <td>No</td>\n",
       "      <td>34</td>\n",
       "      <td>Yes</td>\n",
       "      <td>No</td>\n",
       "      <td>DSL</td>\n",
       "      <td>Yes</td>\n",
       "      <td>...</td>\n",
       "      <td>Yes</td>\n",
       "      <td>No</td>\n",
       "      <td>No</td>\n",
       "      <td>No</td>\n",
       "      <td>One year</td>\n",
       "      <td>No</td>\n",
       "      <td>Mailed check</td>\n",
       "      <td>56.95</td>\n",
       "      <td>1889.5</td>\n",
       "      <td>No</td>\n",
       "    </tr>\n",
       "    <tr>\n",
       "      <th>2</th>\n",
       "      <td>3668-QPYBK</td>\n",
       "      <td>Male</td>\n",
       "      <td>0</td>\n",
       "      <td>No</td>\n",
       "      <td>No</td>\n",
       "      <td>2</td>\n",
       "      <td>Yes</td>\n",
       "      <td>No</td>\n",
       "      <td>DSL</td>\n",
       "      <td>Yes</td>\n",
       "      <td>...</td>\n",
       "      <td>No</td>\n",
       "      <td>No</td>\n",
       "      <td>No</td>\n",
       "      <td>No</td>\n",
       "      <td>Month-to-month</td>\n",
       "      <td>Yes</td>\n",
       "      <td>Mailed check</td>\n",
       "      <td>53.85</td>\n",
       "      <td>108.15</td>\n",
       "      <td>Yes</td>\n",
       "    </tr>\n",
       "    <tr>\n",
       "      <th>3</th>\n",
       "      <td>7795-CFOCW</td>\n",
       "      <td>Male</td>\n",
       "      <td>0</td>\n",
       "      <td>No</td>\n",
       "      <td>No</td>\n",
       "      <td>45</td>\n",
       "      <td>No</td>\n",
       "      <td>No phone service</td>\n",
       "      <td>DSL</td>\n",
       "      <td>Yes</td>\n",
       "      <td>...</td>\n",
       "      <td>Yes</td>\n",
       "      <td>Yes</td>\n",
       "      <td>No</td>\n",
       "      <td>No</td>\n",
       "      <td>One year</td>\n",
       "      <td>No</td>\n",
       "      <td>Bank transfer (automatic)</td>\n",
       "      <td>42.30</td>\n",
       "      <td>1840.75</td>\n",
       "      <td>No</td>\n",
       "    </tr>\n",
       "    <tr>\n",
       "      <th>4</th>\n",
       "      <td>9237-HQITU</td>\n",
       "      <td>Female</td>\n",
       "      <td>0</td>\n",
       "      <td>No</td>\n",
       "      <td>No</td>\n",
       "      <td>2</td>\n",
       "      <td>Yes</td>\n",
       "      <td>No</td>\n",
       "      <td>Fiber optic</td>\n",
       "      <td>No</td>\n",
       "      <td>...</td>\n",
       "      <td>No</td>\n",
       "      <td>No</td>\n",
       "      <td>No</td>\n",
       "      <td>No</td>\n",
       "      <td>Month-to-month</td>\n",
       "      <td>Yes</td>\n",
       "      <td>Electronic check</td>\n",
       "      <td>70.70</td>\n",
       "      <td>151.65</td>\n",
       "      <td>Yes</td>\n",
       "    </tr>\n",
       "    <tr>\n",
       "      <th>...</th>\n",
       "      <td>...</td>\n",
       "      <td>...</td>\n",
       "      <td>...</td>\n",
       "      <td>...</td>\n",
       "      <td>...</td>\n",
       "      <td>...</td>\n",
       "      <td>...</td>\n",
       "      <td>...</td>\n",
       "      <td>...</td>\n",
       "      <td>...</td>\n",
       "      <td>...</td>\n",
       "      <td>...</td>\n",
       "      <td>...</td>\n",
       "      <td>...</td>\n",
       "      <td>...</td>\n",
       "      <td>...</td>\n",
       "      <td>...</td>\n",
       "      <td>...</td>\n",
       "      <td>...</td>\n",
       "      <td>...</td>\n",
       "      <td>...</td>\n",
       "    </tr>\n",
       "    <tr>\n",
       "      <th>7038</th>\n",
       "      <td>6840-RESVB</td>\n",
       "      <td>Male</td>\n",
       "      <td>0</td>\n",
       "      <td>Yes</td>\n",
       "      <td>Yes</td>\n",
       "      <td>24</td>\n",
       "      <td>Yes</td>\n",
       "      <td>Yes</td>\n",
       "      <td>DSL</td>\n",
       "      <td>Yes</td>\n",
       "      <td>...</td>\n",
       "      <td>Yes</td>\n",
       "      <td>Yes</td>\n",
       "      <td>Yes</td>\n",
       "      <td>Yes</td>\n",
       "      <td>One year</td>\n",
       "      <td>Yes</td>\n",
       "      <td>Mailed check</td>\n",
       "      <td>84.80</td>\n",
       "      <td>1990.5</td>\n",
       "      <td>No</td>\n",
       "    </tr>\n",
       "    <tr>\n",
       "      <th>7039</th>\n",
       "      <td>2234-XADUH</td>\n",
       "      <td>Female</td>\n",
       "      <td>0</td>\n",
       "      <td>Yes</td>\n",
       "      <td>Yes</td>\n",
       "      <td>72</td>\n",
       "      <td>Yes</td>\n",
       "      <td>Yes</td>\n",
       "      <td>Fiber optic</td>\n",
       "      <td>No</td>\n",
       "      <td>...</td>\n",
       "      <td>Yes</td>\n",
       "      <td>No</td>\n",
       "      <td>Yes</td>\n",
       "      <td>Yes</td>\n",
       "      <td>One year</td>\n",
       "      <td>Yes</td>\n",
       "      <td>Credit card (automatic)</td>\n",
       "      <td>103.20</td>\n",
       "      <td>7362.9</td>\n",
       "      <td>No</td>\n",
       "    </tr>\n",
       "    <tr>\n",
       "      <th>7040</th>\n",
       "      <td>4801-JZAZL</td>\n",
       "      <td>Female</td>\n",
       "      <td>0</td>\n",
       "      <td>Yes</td>\n",
       "      <td>Yes</td>\n",
       "      <td>11</td>\n",
       "      <td>No</td>\n",
       "      <td>No phone service</td>\n",
       "      <td>DSL</td>\n",
       "      <td>Yes</td>\n",
       "      <td>...</td>\n",
       "      <td>No</td>\n",
       "      <td>No</td>\n",
       "      <td>No</td>\n",
       "      <td>No</td>\n",
       "      <td>Month-to-month</td>\n",
       "      <td>Yes</td>\n",
       "      <td>Electronic check</td>\n",
       "      <td>29.60</td>\n",
       "      <td>346.45</td>\n",
       "      <td>No</td>\n",
       "    </tr>\n",
       "    <tr>\n",
       "      <th>7041</th>\n",
       "      <td>8361-LTMKD</td>\n",
       "      <td>Male</td>\n",
       "      <td>1</td>\n",
       "      <td>Yes</td>\n",
       "      <td>No</td>\n",
       "      <td>4</td>\n",
       "      <td>Yes</td>\n",
       "      <td>Yes</td>\n",
       "      <td>Fiber optic</td>\n",
       "      <td>No</td>\n",
       "      <td>...</td>\n",
       "      <td>No</td>\n",
       "      <td>No</td>\n",
       "      <td>No</td>\n",
       "      <td>No</td>\n",
       "      <td>Month-to-month</td>\n",
       "      <td>Yes</td>\n",
       "      <td>Mailed check</td>\n",
       "      <td>74.40</td>\n",
       "      <td>306.6</td>\n",
       "      <td>Yes</td>\n",
       "    </tr>\n",
       "    <tr>\n",
       "      <th>7042</th>\n",
       "      <td>3186-AJIEK</td>\n",
       "      <td>Male</td>\n",
       "      <td>0</td>\n",
       "      <td>No</td>\n",
       "      <td>No</td>\n",
       "      <td>66</td>\n",
       "      <td>Yes</td>\n",
       "      <td>No</td>\n",
       "      <td>Fiber optic</td>\n",
       "      <td>Yes</td>\n",
       "      <td>...</td>\n",
       "      <td>Yes</td>\n",
       "      <td>Yes</td>\n",
       "      <td>Yes</td>\n",
       "      <td>Yes</td>\n",
       "      <td>Two year</td>\n",
       "      <td>Yes</td>\n",
       "      <td>Bank transfer (automatic)</td>\n",
       "      <td>105.65</td>\n",
       "      <td>6844.5</td>\n",
       "      <td>No</td>\n",
       "    </tr>\n",
       "  </tbody>\n",
       "</table>\n",
       "<p>7043 rows × 21 columns</p>\n",
       "</div>"
      ],
      "text/plain": [
       "      customerID  gender  SeniorCitizen Partner Dependents  tenure  \\\n",
       "0     7590-VHVEG  Female              0     Yes         No       1   \n",
       "1     5575-GNVDE    Male              0      No         No      34   \n",
       "2     3668-QPYBK    Male              0      No         No       2   \n",
       "3     7795-CFOCW    Male              0      No         No      45   \n",
       "4     9237-HQITU  Female              0      No         No       2   \n",
       "...          ...     ...            ...     ...        ...     ...   \n",
       "7038  6840-RESVB    Male              0     Yes        Yes      24   \n",
       "7039  2234-XADUH  Female              0     Yes        Yes      72   \n",
       "7040  4801-JZAZL  Female              0     Yes        Yes      11   \n",
       "7041  8361-LTMKD    Male              1     Yes         No       4   \n",
       "7042  3186-AJIEK    Male              0      No         No      66   \n",
       "\n",
       "     PhoneService     MultipleLines InternetService OnlineSecurity  ...  \\\n",
       "0              No  No phone service             DSL             No  ...   \n",
       "1             Yes                No             DSL            Yes  ...   \n",
       "2             Yes                No             DSL            Yes  ...   \n",
       "3              No  No phone service             DSL            Yes  ...   \n",
       "4             Yes                No     Fiber optic             No  ...   \n",
       "...           ...               ...             ...            ...  ...   \n",
       "7038          Yes               Yes             DSL            Yes  ...   \n",
       "7039          Yes               Yes     Fiber optic             No  ...   \n",
       "7040           No  No phone service             DSL            Yes  ...   \n",
       "7041          Yes               Yes     Fiber optic             No  ...   \n",
       "7042          Yes                No     Fiber optic            Yes  ...   \n",
       "\n",
       "     DeviceProtection TechSupport StreamingTV StreamingMovies        Contract  \\\n",
       "0                  No          No          No              No  Month-to-month   \n",
       "1                 Yes          No          No              No        One year   \n",
       "2                  No          No          No              No  Month-to-month   \n",
       "3                 Yes         Yes          No              No        One year   \n",
       "4                  No          No          No              No  Month-to-month   \n",
       "...               ...         ...         ...             ...             ...   \n",
       "7038              Yes         Yes         Yes             Yes        One year   \n",
       "7039              Yes          No         Yes             Yes        One year   \n",
       "7040               No          No          No              No  Month-to-month   \n",
       "7041               No          No          No              No  Month-to-month   \n",
       "7042              Yes         Yes         Yes             Yes        Two year   \n",
       "\n",
       "     PaperlessBilling              PaymentMethod MonthlyCharges  TotalCharges  \\\n",
       "0                 Yes           Electronic check          29.85         29.85   \n",
       "1                  No               Mailed check          56.95        1889.5   \n",
       "2                 Yes               Mailed check          53.85        108.15   \n",
       "3                  No  Bank transfer (automatic)          42.30       1840.75   \n",
       "4                 Yes           Electronic check          70.70        151.65   \n",
       "...               ...                        ...            ...           ...   \n",
       "7038              Yes               Mailed check          84.80        1990.5   \n",
       "7039              Yes    Credit card (automatic)         103.20        7362.9   \n",
       "7040              Yes           Electronic check          29.60        346.45   \n",
       "7041              Yes               Mailed check          74.40         306.6   \n",
       "7042              Yes  Bank transfer (automatic)         105.65        6844.5   \n",
       "\n",
       "     Churn  \n",
       "0       No  \n",
       "1       No  \n",
       "2      Yes  \n",
       "3       No  \n",
       "4      Yes  \n",
       "...    ...  \n",
       "7038    No  \n",
       "7039    No  \n",
       "7040    No  \n",
       "7041   Yes  \n",
       "7042    No  \n",
       "\n",
       "[7043 rows x 21 columns]"
      ]
     },
     "execution_count": 2,
     "metadata": {},
     "output_type": "execute_result"
    }
   ],
   "source": [
    "# Dataset use telecom_churn :-  \n",
    "df = pd.read_csv(\"telecom_churn.csv\")\n",
    "df"
   ]
  },
  {
   "cell_type": "code",
   "execution_count": 3,
   "metadata": {
    "colab": {
     "base_uri": "https://localhost:8080/"
    },
    "executionInfo": {
     "elapsed": 85,
     "status": "ok",
     "timestamp": 1644230498675,
     "user": {
      "displayName": "Chetan Kate",
      "photoUrl": "https://lh3.googleusercontent.com/a/default-user=s64",
      "userId": "14148496702909736816"
     },
     "user_tz": -330
    },
    "id": "R-RzL2XKjzGZ",
    "outputId": "0ecdd39e-8cf5-4b80-c1e9-456df8376798"
   },
   "outputs": [
    {
     "data": {
      "text/plain": [
       "(7043, 21)"
      ]
     },
     "execution_count": 3,
     "metadata": {},
     "output_type": "execute_result"
    }
   ],
   "source": [
    "df.shape"
   ]
  },
  {
   "cell_type": "code",
   "execution_count": 4,
   "metadata": {
    "colab": {
     "base_uri": "https://localhost:8080/"
    },
    "executionInfo": {
     "elapsed": 69,
     "status": "ok",
     "timestamp": 1644230498676,
     "user": {
      "displayName": "Chetan Kate",
      "photoUrl": "https://lh3.googleusercontent.com/a/default-user=s64",
      "userId": "14148496702909736816"
     },
     "user_tz": -330
    },
    "id": "6itBd0DVj3LJ",
    "outputId": "bc5bb84a-ae86-4735-a8a0-991f0110b3cf"
   },
   "outputs": [
    {
     "data": {
      "text/plain": [
       "Index(['customerID', 'gender', 'SeniorCitizen', 'Partner', 'Dependents',\n",
       "       'tenure', 'PhoneService', 'MultipleLines', 'InternetService',\n",
       "       'OnlineSecurity', 'OnlineBackup', 'DeviceProtection', 'TechSupport',\n",
       "       'StreamingTV', 'StreamingMovies', 'Contract', 'PaperlessBilling',\n",
       "       'PaymentMethod', 'MonthlyCharges', 'TotalCharges', 'Churn'],\n",
       "      dtype='object')"
      ]
     },
     "execution_count": 4,
     "metadata": {},
     "output_type": "execute_result"
    }
   ],
   "source": [
    "df.columns"
   ]
  },
  {
   "cell_type": "code",
   "execution_count": 5,
   "metadata": {
    "executionInfo": {
     "elapsed": 65,
     "status": "ok",
     "timestamp": 1644230498677,
     "user": {
      "displayName": "Chetan Kate",
      "photoUrl": "https://lh3.googleusercontent.com/a/default-user=s64",
      "userId": "14148496702909736816"
     },
     "user_tz": -330
    },
    "id": "OkZ2tjFHj5dQ"
   },
   "outputs": [],
   "source": [
    "# To delete the unwanted columns CustomerID permanently from dataset df\n",
    "df.drop(\"customerID\",axis=1,inplace=True)"
   ]
  },
  {
   "cell_type": "code",
   "execution_count": 6,
   "metadata": {
    "colab": {
     "base_uri": "https://localhost:8080/"
    },
    "executionInfo": {
     "elapsed": 64,
     "status": "ok",
     "timestamp": 1644230498677,
     "user": {
      "displayName": "Chetan Kate",
      "photoUrl": "https://lh3.googleusercontent.com/a/default-user=s64",
      "userId": "14148496702909736816"
     },
     "user_tz": -330
    },
    "id": "XFYGLwUTj7ao",
    "outputId": "b2e118d1-a7a6-4b82-d7e6-55e8b2c43a60"
   },
   "outputs": [
    {
     "data": {
      "text/plain": [
       "gender              0\n",
       "SeniorCitizen       0\n",
       "Partner             0\n",
       "Dependents          0\n",
       "tenure              0\n",
       "PhoneService        0\n",
       "MultipleLines       0\n",
       "InternetService     0\n",
       "OnlineSecurity      0\n",
       "OnlineBackup        0\n",
       "DeviceProtection    0\n",
       "TechSupport         0\n",
       "StreamingTV         0\n",
       "StreamingMovies     0\n",
       "Contract            0\n",
       "PaperlessBilling    0\n",
       "PaymentMethod       0\n",
       "MonthlyCharges      0\n",
       "TotalCharges        0\n",
       "Churn               0\n",
       "dtype: int64"
      ]
     },
     "execution_count": 6,
     "metadata": {},
     "output_type": "execute_result"
    }
   ],
   "source": [
    "df.isnull().sum()"
   ]
  },
  {
   "cell_type": "code",
   "execution_count": 7,
   "metadata": {
    "colab": {
     "base_uri": "https://localhost:8080/"
    },
    "executionInfo": {
     "elapsed": 58,
     "status": "ok",
     "timestamp": 1644230498678,
     "user": {
      "displayName": "Chetan Kate",
      "photoUrl": "https://lh3.googleusercontent.com/a/default-user=s64",
      "userId": "14148496702909736816"
     },
     "user_tz": -330
    },
    "id": "jI8fjsxgkIt_",
    "outputId": "6cf592b5-828e-4bed-de2b-64760ef0362a"
   },
   "outputs": [
    {
     "name": "stdout",
     "output_type": "stream",
     "text": [
      "<class 'pandas.core.frame.DataFrame'>\n",
      "RangeIndex: 7043 entries, 0 to 7042\n",
      "Data columns (total 20 columns):\n",
      " #   Column            Non-Null Count  Dtype  \n",
      "---  ------            --------------  -----  \n",
      " 0   gender            7043 non-null   object \n",
      " 1   SeniorCitizen     7043 non-null   int64  \n",
      " 2   Partner           7043 non-null   object \n",
      " 3   Dependents        7043 non-null   object \n",
      " 4   tenure            7043 non-null   int64  \n",
      " 5   PhoneService      7043 non-null   object \n",
      " 6   MultipleLines     7043 non-null   object \n",
      " 7   InternetService   7043 non-null   object \n",
      " 8   OnlineSecurity    7043 non-null   object \n",
      " 9   OnlineBackup      7043 non-null   object \n",
      " 10  DeviceProtection  7043 non-null   object \n",
      " 11  TechSupport       7043 non-null   object \n",
      " 12  StreamingTV       7043 non-null   object \n",
      " 13  StreamingMovies   7043 non-null   object \n",
      " 14  Contract          7043 non-null   object \n",
      " 15  PaperlessBilling  7043 non-null   object \n",
      " 16  PaymentMethod     7043 non-null   object \n",
      " 17  MonthlyCharges    7043 non-null   float64\n",
      " 18  TotalCharges      7043 non-null   object \n",
      " 19  Churn             7043 non-null   object \n",
      "dtypes: float64(1), int64(2), object(17)\n",
      "memory usage: 1.1+ MB\n"
     ]
    }
   ],
   "source": [
    "df.info()"
   ]
  },
  {
   "cell_type": "code",
   "execution_count": 8,
   "metadata": {
    "colab": {
     "base_uri": "https://localhost:8080/"
    },
    "executionInfo": {
     "elapsed": 53,
     "status": "ok",
     "timestamp": 1644230498679,
     "user": {
      "displayName": "Chetan Kate",
      "photoUrl": "https://lh3.googleusercontent.com/a/default-user=s64",
      "userId": "14148496702909736816"
     },
     "user_tz": -330
    },
    "id": "bzT7zUbVkKl3",
    "outputId": "6bf45e23-1520-417c-afe9-1e899dff2de2"
   },
   "outputs": [
    {
     "data": {
      "text/plain": [
       "           11\n",
       "20.2       11\n",
       "19.75       9\n",
       "19.65       8\n",
       "19.9        8\n",
       "           ..\n",
       "75.05       1\n",
       "4533.9      1\n",
       "2088.75     1\n",
       "6563.4      1\n",
       "2347.85     1\n",
       "Name: TotalCharges, Length: 6531, dtype: int64"
      ]
     },
     "execution_count": 8,
     "metadata": {},
     "output_type": "execute_result"
    }
   ],
   "source": [
    "df[\"TotalCharges\"].value_counts()"
   ]
  },
  {
   "cell_type": "code",
   "execution_count": 9,
   "metadata": {
    "executionInfo": {
     "elapsed": 45,
     "status": "ok",
     "timestamp": 1644230498679,
     "user": {
      "displayName": "Chetan Kate",
      "photoUrl": "https://lh3.googleusercontent.com/a/default-user=s64",
      "userId": "14148496702909736816"
     },
     "user_tz": -330
    },
    "id": "JgCiqErUkMfu"
   },
   "outputs": [],
   "source": [
    "# Replace the space of df[\"TotalCharges\"] with the null values permanently \n",
    "df[\"TotalCharges\"].replace(\" \",np.nan,inplace=True)"
   ]
  },
  {
   "cell_type": "code",
   "execution_count": 10,
   "metadata": {
    "colab": {
     "base_uri": "https://localhost:8080/"
    },
    "executionInfo": {
     "elapsed": 45,
     "status": "ok",
     "timestamp": 1644230498680,
     "user": {
      "displayName": "Chetan Kate",
      "photoUrl": "https://lh3.googleusercontent.com/a/default-user=s64",
      "userId": "14148496702909736816"
     },
     "user_tz": -330
    },
    "id": "sqWa3AxlkO_m",
    "outputId": "f4d4b450-f4f6-4565-c566-741c4c951e32"
   },
   "outputs": [
    {
     "data": {
      "text/plain": [
       "20.2       11\n",
       "19.75       9\n",
       "19.9        8\n",
       "20.05       8\n",
       "19.65       8\n",
       "           ..\n",
       "4533.9      1\n",
       "2088.75     1\n",
       "6563.4      1\n",
       "57.2        1\n",
       "2347.85     1\n",
       "Name: TotalCharges, Length: 6530, dtype: int64"
      ]
     },
     "execution_count": 10,
     "metadata": {},
     "output_type": "execute_result"
    }
   ],
   "source": [
    "df[\"TotalCharges\"].value_counts()"
   ]
  },
  {
   "cell_type": "code",
   "execution_count": 11,
   "metadata": {
    "colab": {
     "base_uri": "https://localhost:8080/"
    },
    "executionInfo": {
     "elapsed": 41,
     "status": "ok",
     "timestamp": 1644230498680,
     "user": {
      "displayName": "Chetan Kate",
      "photoUrl": "https://lh3.googleusercontent.com/a/default-user=s64",
      "userId": "14148496702909736816"
     },
     "user_tz": -330
    },
    "id": "t37Y2O1CkQtm",
    "outputId": "46282958-04fd-4760-8d18-f88cee6d9cb0"
   },
   "outputs": [
    {
     "data": {
      "text/plain": [
       "gender               0\n",
       "SeniorCitizen        0\n",
       "Partner              0\n",
       "Dependents           0\n",
       "tenure               0\n",
       "PhoneService         0\n",
       "MultipleLines        0\n",
       "InternetService      0\n",
       "OnlineSecurity       0\n",
       "OnlineBackup         0\n",
       "DeviceProtection     0\n",
       "TechSupport          0\n",
       "StreamingTV          0\n",
       "StreamingMovies      0\n",
       "Contract             0\n",
       "PaperlessBilling     0\n",
       "PaymentMethod        0\n",
       "MonthlyCharges       0\n",
       "TotalCharges        11\n",
       "Churn                0\n",
       "dtype: int64"
      ]
     },
     "execution_count": 11,
     "metadata": {},
     "output_type": "execute_result"
    }
   ],
   "source": [
    "df.isnull().sum()"
   ]
  },
  {
   "cell_type": "code",
   "execution_count": 12,
   "metadata": {
    "colab": {
     "base_uri": "https://localhost:8080/"
    },
    "executionInfo": {
     "elapsed": 35,
     "status": "ok",
     "timestamp": 1644230498681,
     "user": {
      "displayName": "Chetan Kate",
      "photoUrl": "https://lh3.googleusercontent.com/a/default-user=s64",
      "userId": "14148496702909736816"
     },
     "user_tz": -330
    },
    "id": "0xUJ835ckZIf",
    "outputId": "c9d24481-927d-4af8-bf6a-5d9379093308"
   },
   "outputs": [
    {
     "data": {
      "text/plain": [
       "dtype('O')"
      ]
     },
     "execution_count": 12,
     "metadata": {},
     "output_type": "execute_result"
    }
   ],
   "source": [
    "df[\"TotalCharges\"].dtype"
   ]
  },
  {
   "cell_type": "code",
   "execution_count": 13,
   "metadata": {
    "colab": {
     "base_uri": "https://localhost:8080/"
    },
    "executionInfo": {
     "elapsed": 33,
     "status": "ok",
     "timestamp": 1644230498682,
     "user": {
      "displayName": "Chetan Kate",
      "photoUrl": "https://lh3.googleusercontent.com/a/default-user=s64",
      "userId": "14148496702909736816"
     },
     "user_tz": -330
    },
    "id": "kPL_FOHHkbnW",
    "outputId": "f1eb779e-5188-44f7-e4bb-c6ed746fcde7"
   },
   "outputs": [
    {
     "data": {
      "text/plain": [
       "0.15618344455487718"
      ]
     },
     "execution_count": 13,
     "metadata": {},
     "output_type": "execute_result"
    }
   ],
   "source": [
    "# To find the % of null values in TotalCharges columns\n",
    "df[\"TotalCharges\"].isnull().sum()*100/df.shape[0]"
   ]
  },
  {
   "cell_type": "code",
   "execution_count": 14,
   "metadata": {
    "executionInfo": {
     "elapsed": 31,
     "status": "ok",
     "timestamp": 1644230498683,
     "user": {
      "displayName": "Chetan Kate",
      "photoUrl": "https://lh3.googleusercontent.com/a/default-user=s64",
      "userId": "14148496702909736816"
     },
     "user_tz": -330
    },
    "id": "LC7PYUY7kdT2"
   },
   "outputs": [],
   "source": [
    "# Change the type of TotalCharges column from object to float\n",
    "df[\"TotalCharges\"]=df[\"TotalCharges\"].astype(\"float\")"
   ]
  },
  {
   "cell_type": "code",
   "execution_count": 15,
   "metadata": {
    "colab": {
     "base_uri": "https://localhost:8080/"
    },
    "executionInfo": {
     "elapsed": 36,
     "status": "ok",
     "timestamp": 1644230498688,
     "user": {
      "displayName": "Chetan Kate",
      "photoUrl": "https://lh3.googleusercontent.com/a/default-user=s64",
      "userId": "14148496702909736816"
     },
     "user_tz": -330
    },
    "id": "M6WVsbUQkfMG",
    "outputId": "e06c2cf2-78df-47a0-a936-3df05c850967"
   },
   "outputs": [
    {
     "data": {
      "text/plain": [
       "dtype('float64')"
      ]
     },
     "execution_count": 15,
     "metadata": {},
     "output_type": "execute_result"
    }
   ],
   "source": [
    "df[\"TotalCharges\"].dtype"
   ]
  },
  {
   "cell_type": "code",
   "execution_count": 16,
   "metadata": {
    "executionInfo": {
     "elapsed": 33,
     "status": "ok",
     "timestamp": 1644230498689,
     "user": {
      "displayName": "Chetan Kate",
      "photoUrl": "https://lh3.googleusercontent.com/a/default-user=s64",
      "userId": "14148496702909736816"
     },
     "user_tz": -330
    },
    "id": "TUA_Ycx-khTW"
   },
   "outputs": [],
   "source": [
    "# To fill null values of \" TotalCharges \" columns with mean of TotalCharges permanently \n",
    "df[\"TotalCharges\"].fillna(df[\"TotalCharges\"].mean(),inplace=True)"
   ]
  },
  {
   "cell_type": "code",
   "execution_count": 17,
   "metadata": {
    "colab": {
     "base_uri": "https://localhost:8080/"
    },
    "executionInfo": {
     "elapsed": 33,
     "status": "ok",
     "timestamp": 1644230498690,
     "user": {
      "displayName": "Chetan Kate",
      "photoUrl": "https://lh3.googleusercontent.com/a/default-user=s64",
      "userId": "14148496702909736816"
     },
     "user_tz": -330
    },
    "id": "IXXbZRWbkkMG",
    "outputId": "74fb071a-cadf-4630-eb8f-b95709f206e1"
   },
   "outputs": [
    {
     "data": {
      "text/plain": [
       "gender              0\n",
       "SeniorCitizen       0\n",
       "Partner             0\n",
       "Dependents          0\n",
       "tenure              0\n",
       "PhoneService        0\n",
       "MultipleLines       0\n",
       "InternetService     0\n",
       "OnlineSecurity      0\n",
       "OnlineBackup        0\n",
       "DeviceProtection    0\n",
       "TechSupport         0\n",
       "StreamingTV         0\n",
       "StreamingMovies     0\n",
       "Contract            0\n",
       "PaperlessBilling    0\n",
       "PaymentMethod       0\n",
       "MonthlyCharges      0\n",
       "TotalCharges        0\n",
       "Churn               0\n",
       "dtype: int64"
      ]
     },
     "execution_count": 17,
     "metadata": {},
     "output_type": "execute_result"
    }
   ],
   "source": [
    "df.isnull().sum()"
   ]
  },
  {
   "cell_type": "code",
   "execution_count": 18,
   "metadata": {
    "colab": {
     "base_uri": "https://localhost:8080/"
    },
    "executionInfo": {
     "elapsed": 32,
     "status": "ok",
     "timestamp": 1644230498691,
     "user": {
      "displayName": "Chetan Kate",
      "photoUrl": "https://lh3.googleusercontent.com/a/default-user=s64",
      "userId": "14148496702909736816"
     },
     "user_tz": -330
    },
    "id": "WFYtQIutkmH-",
    "outputId": "14ee2f2d-9905-40ae-d8e7-810346325b8a"
   },
   "outputs": [
    {
     "name": "stdout",
     "output_type": "stream",
     "text": [
      "<class 'pandas.core.frame.DataFrame'>\n",
      "RangeIndex: 7043 entries, 0 to 7042\n",
      "Data columns (total 20 columns):\n",
      " #   Column            Non-Null Count  Dtype  \n",
      "---  ------            --------------  -----  \n",
      " 0   gender            7043 non-null   object \n",
      " 1   SeniorCitizen     7043 non-null   int64  \n",
      " 2   Partner           7043 non-null   object \n",
      " 3   Dependents        7043 non-null   object \n",
      " 4   tenure            7043 non-null   int64  \n",
      " 5   PhoneService      7043 non-null   object \n",
      " 6   MultipleLines     7043 non-null   object \n",
      " 7   InternetService   7043 non-null   object \n",
      " 8   OnlineSecurity    7043 non-null   object \n",
      " 9   OnlineBackup      7043 non-null   object \n",
      " 10  DeviceProtection  7043 non-null   object \n",
      " 11  TechSupport       7043 non-null   object \n",
      " 12  StreamingTV       7043 non-null   object \n",
      " 13  StreamingMovies   7043 non-null   object \n",
      " 14  Contract          7043 non-null   object \n",
      " 15  PaperlessBilling  7043 non-null   object \n",
      " 16  PaymentMethod     7043 non-null   object \n",
      " 17  MonthlyCharges    7043 non-null   float64\n",
      " 18  TotalCharges      7043 non-null   float64\n",
      " 19  Churn             7043 non-null   object \n",
      "dtypes: float64(2), int64(2), object(16)\n",
      "memory usage: 1.1+ MB\n"
     ]
    }
   ],
   "source": [
    "df.info()"
   ]
  },
  {
   "cell_type": "markdown",
   "metadata": {
    "id": "uR_aVuNOkrTr"
   },
   "source": [
    "**Label Encoding**"
   ]
  },
  {
   "cell_type": "code",
   "execution_count": 19,
   "metadata": {
    "executionInfo": {
     "elapsed": 30,
     "status": "ok",
     "timestamp": 1644230498692,
     "user": {
      "displayName": "Chetan Kate",
      "photoUrl": "https://lh3.googleusercontent.com/a/default-user=s64",
      "userId": "14148496702909736816"
     },
     "user_tz": -330
    },
    "id": "R1uCyhfAkoEm"
   },
   "outputs": [],
   "source": [
    "# Seperate all object type data and hold in df_Cat\n",
    "df_cat = df.select_dtypes(\"object\")\n",
    "# Seperate all numeric type data and hold in df_num\n",
    "df_num = df.select_dtypes([\"float64\",\"int64\"])"
   ]
  },
  {
   "cell_type": "code",
   "execution_count": 20,
   "metadata": {
    "executionInfo": {
     "elapsed": 592,
     "status": "ok",
     "timestamp": 1644230499254,
     "user": {
      "displayName": "Chetan Kate",
      "photoUrl": "https://lh3.googleusercontent.com/a/default-user=s64",
      "userId": "14148496702909736816"
     },
     "user_tz": -330
    },
    "id": "VK32ZDm0kqyW"
   },
   "outputs": [],
   "source": [
    "# To converts obejct type data in to number using LabelEncoder class\n",
    "from sklearn.preprocessing import LabelEncoder\n",
    "for col in df_cat:\n",
    "  # Create object of LabelEncoder\n",
    "  le=LabelEncoder()\n",
    "  df_cat[col] = le.fit_transform(df_cat[col])\n"
   ]
  },
  {
   "cell_type": "code",
   "execution_count": 21,
   "metadata": {
    "colab": {
     "base_uri": "https://localhost:8080/"
    },
    "executionInfo": {
     "elapsed": 81,
     "status": "ok",
     "timestamp": 1644230499255,
     "user": {
      "displayName": "Chetan Kate",
      "photoUrl": "https://lh3.googleusercontent.com/a/default-user=s64",
      "userId": "14148496702909736816"
     },
     "user_tz": -330
    },
    "id": "aUNNxqNUkyq9",
    "outputId": "7d775938-cb6a-4ac2-ba8b-d0eb9020aa4a"
   },
   "outputs": [
    {
     "name": "stdout",
     "output_type": "stream",
     "text": [
      "<class 'pandas.core.frame.DataFrame'>\n",
      "RangeIndex: 7043 entries, 0 to 7042\n",
      "Data columns (total 16 columns):\n",
      " #   Column            Non-Null Count  Dtype\n",
      "---  ------            --------------  -----\n",
      " 0   gender            7043 non-null   int32\n",
      " 1   Partner           7043 non-null   int32\n",
      " 2   Dependents        7043 non-null   int32\n",
      " 3   PhoneService      7043 non-null   int32\n",
      " 4   MultipleLines     7043 non-null   int32\n",
      " 5   InternetService   7043 non-null   int32\n",
      " 6   OnlineSecurity    7043 non-null   int32\n",
      " 7   OnlineBackup      7043 non-null   int32\n",
      " 8   DeviceProtection  7043 non-null   int32\n",
      " 9   TechSupport       7043 non-null   int32\n",
      " 10  StreamingTV       7043 non-null   int32\n",
      " 11  StreamingMovies   7043 non-null   int32\n",
      " 12  Contract          7043 non-null   int32\n",
      " 13  PaperlessBilling  7043 non-null   int32\n",
      " 14  PaymentMethod     7043 non-null   int32\n",
      " 15  Churn             7043 non-null   int32\n",
      "dtypes: int32(16)\n",
      "memory usage: 440.3 KB\n"
     ]
    }
   ],
   "source": [
    "# Check the df_cat\n",
    "df_cat.info()"
   ]
  },
  {
   "cell_type": "code",
   "execution_count": 22,
   "metadata": {
    "colab": {
     "base_uri": "https://localhost:8080/",
     "height": 488
    },
    "executionInfo": {
     "elapsed": 74,
     "status": "ok",
     "timestamp": 1644230499257,
     "user": {
      "displayName": "Chetan Kate",
      "photoUrl": "https://lh3.googleusercontent.com/a/default-user=s64",
      "userId": "14148496702909736816"
     },
     "user_tz": -330
    },
    "id": "zliBGWY9k0al",
    "outputId": "6fc55e67-3de0-493a-aaf8-f2ee545468b1"
   },
   "outputs": [
    {
     "data": {
      "text/html": [
       "<div>\n",
       "<style scoped>\n",
       "    .dataframe tbody tr th:only-of-type {\n",
       "        vertical-align: middle;\n",
       "    }\n",
       "\n",
       "    .dataframe tbody tr th {\n",
       "        vertical-align: top;\n",
       "    }\n",
       "\n",
       "    .dataframe thead th {\n",
       "        text-align: right;\n",
       "    }\n",
       "</style>\n",
       "<table border=\"1\" class=\"dataframe\">\n",
       "  <thead>\n",
       "    <tr style=\"text-align: right;\">\n",
       "      <th></th>\n",
       "      <th>gender</th>\n",
       "      <th>Partner</th>\n",
       "      <th>Dependents</th>\n",
       "      <th>PhoneService</th>\n",
       "      <th>MultipleLines</th>\n",
       "      <th>InternetService</th>\n",
       "      <th>OnlineSecurity</th>\n",
       "      <th>OnlineBackup</th>\n",
       "      <th>DeviceProtection</th>\n",
       "      <th>TechSupport</th>\n",
       "      <th>StreamingTV</th>\n",
       "      <th>StreamingMovies</th>\n",
       "      <th>Contract</th>\n",
       "      <th>PaperlessBilling</th>\n",
       "      <th>PaymentMethod</th>\n",
       "      <th>Churn</th>\n",
       "      <th>SeniorCitizen</th>\n",
       "      <th>tenure</th>\n",
       "      <th>MonthlyCharges</th>\n",
       "      <th>TotalCharges</th>\n",
       "    </tr>\n",
       "  </thead>\n",
       "  <tbody>\n",
       "    <tr>\n",
       "      <th>0</th>\n",
       "      <td>0</td>\n",
       "      <td>1</td>\n",
       "      <td>0</td>\n",
       "      <td>0</td>\n",
       "      <td>1</td>\n",
       "      <td>0</td>\n",
       "      <td>0</td>\n",
       "      <td>2</td>\n",
       "      <td>0</td>\n",
       "      <td>0</td>\n",
       "      <td>0</td>\n",
       "      <td>0</td>\n",
       "      <td>0</td>\n",
       "      <td>1</td>\n",
       "      <td>2</td>\n",
       "      <td>0</td>\n",
       "      <td>0</td>\n",
       "      <td>1</td>\n",
       "      <td>29.85</td>\n",
       "      <td>29.85</td>\n",
       "    </tr>\n",
       "    <tr>\n",
       "      <th>1</th>\n",
       "      <td>1</td>\n",
       "      <td>0</td>\n",
       "      <td>0</td>\n",
       "      <td>1</td>\n",
       "      <td>0</td>\n",
       "      <td>0</td>\n",
       "      <td>2</td>\n",
       "      <td>0</td>\n",
       "      <td>2</td>\n",
       "      <td>0</td>\n",
       "      <td>0</td>\n",
       "      <td>0</td>\n",
       "      <td>1</td>\n",
       "      <td>0</td>\n",
       "      <td>3</td>\n",
       "      <td>0</td>\n",
       "      <td>0</td>\n",
       "      <td>34</td>\n",
       "      <td>56.95</td>\n",
       "      <td>1889.50</td>\n",
       "    </tr>\n",
       "    <tr>\n",
       "      <th>2</th>\n",
       "      <td>1</td>\n",
       "      <td>0</td>\n",
       "      <td>0</td>\n",
       "      <td>1</td>\n",
       "      <td>0</td>\n",
       "      <td>0</td>\n",
       "      <td>2</td>\n",
       "      <td>2</td>\n",
       "      <td>0</td>\n",
       "      <td>0</td>\n",
       "      <td>0</td>\n",
       "      <td>0</td>\n",
       "      <td>0</td>\n",
       "      <td>1</td>\n",
       "      <td>3</td>\n",
       "      <td>1</td>\n",
       "      <td>0</td>\n",
       "      <td>2</td>\n",
       "      <td>53.85</td>\n",
       "      <td>108.15</td>\n",
       "    </tr>\n",
       "    <tr>\n",
       "      <th>3</th>\n",
       "      <td>1</td>\n",
       "      <td>0</td>\n",
       "      <td>0</td>\n",
       "      <td>0</td>\n",
       "      <td>1</td>\n",
       "      <td>0</td>\n",
       "      <td>2</td>\n",
       "      <td>0</td>\n",
       "      <td>2</td>\n",
       "      <td>2</td>\n",
       "      <td>0</td>\n",
       "      <td>0</td>\n",
       "      <td>1</td>\n",
       "      <td>0</td>\n",
       "      <td>0</td>\n",
       "      <td>0</td>\n",
       "      <td>0</td>\n",
       "      <td>45</td>\n",
       "      <td>42.30</td>\n",
       "      <td>1840.75</td>\n",
       "    </tr>\n",
       "    <tr>\n",
       "      <th>4</th>\n",
       "      <td>0</td>\n",
       "      <td>0</td>\n",
       "      <td>0</td>\n",
       "      <td>1</td>\n",
       "      <td>0</td>\n",
       "      <td>1</td>\n",
       "      <td>0</td>\n",
       "      <td>0</td>\n",
       "      <td>0</td>\n",
       "      <td>0</td>\n",
       "      <td>0</td>\n",
       "      <td>0</td>\n",
       "      <td>0</td>\n",
       "      <td>1</td>\n",
       "      <td>2</td>\n",
       "      <td>1</td>\n",
       "      <td>0</td>\n",
       "      <td>2</td>\n",
       "      <td>70.70</td>\n",
       "      <td>151.65</td>\n",
       "    </tr>\n",
       "    <tr>\n",
       "      <th>...</th>\n",
       "      <td>...</td>\n",
       "      <td>...</td>\n",
       "      <td>...</td>\n",
       "      <td>...</td>\n",
       "      <td>...</td>\n",
       "      <td>...</td>\n",
       "      <td>...</td>\n",
       "      <td>...</td>\n",
       "      <td>...</td>\n",
       "      <td>...</td>\n",
       "      <td>...</td>\n",
       "      <td>...</td>\n",
       "      <td>...</td>\n",
       "      <td>...</td>\n",
       "      <td>...</td>\n",
       "      <td>...</td>\n",
       "      <td>...</td>\n",
       "      <td>...</td>\n",
       "      <td>...</td>\n",
       "      <td>...</td>\n",
       "    </tr>\n",
       "    <tr>\n",
       "      <th>7038</th>\n",
       "      <td>1</td>\n",
       "      <td>1</td>\n",
       "      <td>1</td>\n",
       "      <td>1</td>\n",
       "      <td>2</td>\n",
       "      <td>0</td>\n",
       "      <td>2</td>\n",
       "      <td>0</td>\n",
       "      <td>2</td>\n",
       "      <td>2</td>\n",
       "      <td>2</td>\n",
       "      <td>2</td>\n",
       "      <td>1</td>\n",
       "      <td>1</td>\n",
       "      <td>3</td>\n",
       "      <td>0</td>\n",
       "      <td>0</td>\n",
       "      <td>24</td>\n",
       "      <td>84.80</td>\n",
       "      <td>1990.50</td>\n",
       "    </tr>\n",
       "    <tr>\n",
       "      <th>7039</th>\n",
       "      <td>0</td>\n",
       "      <td>1</td>\n",
       "      <td>1</td>\n",
       "      <td>1</td>\n",
       "      <td>2</td>\n",
       "      <td>1</td>\n",
       "      <td>0</td>\n",
       "      <td>2</td>\n",
       "      <td>2</td>\n",
       "      <td>0</td>\n",
       "      <td>2</td>\n",
       "      <td>2</td>\n",
       "      <td>1</td>\n",
       "      <td>1</td>\n",
       "      <td>1</td>\n",
       "      <td>0</td>\n",
       "      <td>0</td>\n",
       "      <td>72</td>\n",
       "      <td>103.20</td>\n",
       "      <td>7362.90</td>\n",
       "    </tr>\n",
       "    <tr>\n",
       "      <th>7040</th>\n",
       "      <td>0</td>\n",
       "      <td>1</td>\n",
       "      <td>1</td>\n",
       "      <td>0</td>\n",
       "      <td>1</td>\n",
       "      <td>0</td>\n",
       "      <td>2</td>\n",
       "      <td>0</td>\n",
       "      <td>0</td>\n",
       "      <td>0</td>\n",
       "      <td>0</td>\n",
       "      <td>0</td>\n",
       "      <td>0</td>\n",
       "      <td>1</td>\n",
       "      <td>2</td>\n",
       "      <td>0</td>\n",
       "      <td>0</td>\n",
       "      <td>11</td>\n",
       "      <td>29.60</td>\n",
       "      <td>346.45</td>\n",
       "    </tr>\n",
       "    <tr>\n",
       "      <th>7041</th>\n",
       "      <td>1</td>\n",
       "      <td>1</td>\n",
       "      <td>0</td>\n",
       "      <td>1</td>\n",
       "      <td>2</td>\n",
       "      <td>1</td>\n",
       "      <td>0</td>\n",
       "      <td>0</td>\n",
       "      <td>0</td>\n",
       "      <td>0</td>\n",
       "      <td>0</td>\n",
       "      <td>0</td>\n",
       "      <td>0</td>\n",
       "      <td>1</td>\n",
       "      <td>3</td>\n",
       "      <td>1</td>\n",
       "      <td>1</td>\n",
       "      <td>4</td>\n",
       "      <td>74.40</td>\n",
       "      <td>306.60</td>\n",
       "    </tr>\n",
       "    <tr>\n",
       "      <th>7042</th>\n",
       "      <td>1</td>\n",
       "      <td>0</td>\n",
       "      <td>0</td>\n",
       "      <td>1</td>\n",
       "      <td>0</td>\n",
       "      <td>1</td>\n",
       "      <td>2</td>\n",
       "      <td>0</td>\n",
       "      <td>2</td>\n",
       "      <td>2</td>\n",
       "      <td>2</td>\n",
       "      <td>2</td>\n",
       "      <td>2</td>\n",
       "      <td>1</td>\n",
       "      <td>0</td>\n",
       "      <td>0</td>\n",
       "      <td>0</td>\n",
       "      <td>66</td>\n",
       "      <td>105.65</td>\n",
       "      <td>6844.50</td>\n",
       "    </tr>\n",
       "  </tbody>\n",
       "</table>\n",
       "<p>7043 rows × 20 columns</p>\n",
       "</div>"
      ],
      "text/plain": [
       "      gender  Partner  Dependents  PhoneService  MultipleLines  \\\n",
       "0          0        1           0             0              1   \n",
       "1          1        0           0             1              0   \n",
       "2          1        0           0             1              0   \n",
       "3          1        0           0             0              1   \n",
       "4          0        0           0             1              0   \n",
       "...      ...      ...         ...           ...            ...   \n",
       "7038       1        1           1             1              2   \n",
       "7039       0        1           1             1              2   \n",
       "7040       0        1           1             0              1   \n",
       "7041       1        1           0             1              2   \n",
       "7042       1        0           0             1              0   \n",
       "\n",
       "      InternetService  OnlineSecurity  OnlineBackup  DeviceProtection  \\\n",
       "0                   0               0             2                 0   \n",
       "1                   0               2             0                 2   \n",
       "2                   0               2             2                 0   \n",
       "3                   0               2             0                 2   \n",
       "4                   1               0             0                 0   \n",
       "...               ...             ...           ...               ...   \n",
       "7038                0               2             0                 2   \n",
       "7039                1               0             2                 2   \n",
       "7040                0               2             0                 0   \n",
       "7041                1               0             0                 0   \n",
       "7042                1               2             0                 2   \n",
       "\n",
       "      TechSupport  StreamingTV  StreamingMovies  Contract  PaperlessBilling  \\\n",
       "0               0            0                0         0                 1   \n",
       "1               0            0                0         1                 0   \n",
       "2               0            0                0         0                 1   \n",
       "3               2            0                0         1                 0   \n",
       "4               0            0                0         0                 1   \n",
       "...           ...          ...              ...       ...               ...   \n",
       "7038            2            2                2         1                 1   \n",
       "7039            0            2                2         1                 1   \n",
       "7040            0            0                0         0                 1   \n",
       "7041            0            0                0         0                 1   \n",
       "7042            2            2                2         2                 1   \n",
       "\n",
       "      PaymentMethod  Churn  SeniorCitizen  tenure  MonthlyCharges  \\\n",
       "0                 2      0              0       1           29.85   \n",
       "1                 3      0              0      34           56.95   \n",
       "2                 3      1              0       2           53.85   \n",
       "3                 0      0              0      45           42.30   \n",
       "4                 2      1              0       2           70.70   \n",
       "...             ...    ...            ...     ...             ...   \n",
       "7038              3      0              0      24           84.80   \n",
       "7039              1      0              0      72          103.20   \n",
       "7040              2      0              0      11           29.60   \n",
       "7041              3      1              1       4           74.40   \n",
       "7042              0      0              0      66          105.65   \n",
       "\n",
       "      TotalCharges  \n",
       "0            29.85  \n",
       "1          1889.50  \n",
       "2           108.15  \n",
       "3          1840.75  \n",
       "4           151.65  \n",
       "...            ...  \n",
       "7038       1990.50  \n",
       "7039       7362.90  \n",
       "7040        346.45  \n",
       "7041        306.60  \n",
       "7042       6844.50  \n",
       "\n",
       "[7043 rows x 20 columns]"
      ]
     },
     "execution_count": 22,
     "metadata": {},
     "output_type": "execute_result"
    }
   ],
   "source": [
    "# To concatenate the df_cat and df_num into new Dataset\n",
    "df_new = pd.concat([df_cat,df_num],axis=1)\n",
    "df_new"
   ]
  },
  {
   "cell_type": "code",
   "execution_count": 24,
   "metadata": {
    "executionInfo": {
     "elapsed": 71,
     "status": "ok",
     "timestamp": 1644230499257,
     "user": {
      "displayName": "Chetan Kate",
      "photoUrl": "https://lh3.googleusercontent.com/a/default-user=s64",
      "userId": "14148496702909736816"
     },
     "user_tz": -330
    },
    "id": "0cRJ1cN2k2dd"
   },
   "outputs": [],
   "source": [
    "# train test split the dataset for training and testing\n",
    "from sklearn.model_selection import train_test_split"
   ]
  },
  {
   "cell_type": "code",
   "execution_count": 25,
   "metadata": {
    "executionInfo": {
     "elapsed": 71,
     "status": "ok",
     "timestamp": 1644230499258,
     "user": {
      "displayName": "Chetan Kate",
      "photoUrl": "https://lh3.googleusercontent.com/a/default-user=s64",
      "userId": "14148496702909736816"
     },
     "user_tz": -330
    },
    "id": "oX5KNRKdk6b1"
   },
   "outputs": [],
   "source": [
    "# Selecting the Input and output from the datset\n",
    "X = df_new.drop(\"Churn\",axis=1) # input variable \n",
    "Y = df_new[\"Churn\"]   # Output variable or target variable "
   ]
  },
  {
   "cell_type": "code",
   "execution_count": 26,
   "metadata": {
    "executionInfo": {
     "elapsed": 70,
     "status": "ok",
     "timestamp": 1644230499258,
     "user": {
      "displayName": "Chetan Kate",
      "photoUrl": "https://lh3.googleusercontent.com/a/default-user=s64",
      "userId": "14148496702909736816"
     },
     "user_tz": -330
    },
    "id": "t1eayeL_k71d"
   },
   "outputs": [],
   "source": [
    "X_train,X_test,Y_train,Y_test = train_test_split(X,Y,test_size=0.3,random_state=1)"
   ]
  },
  {
   "cell_type": "markdown",
   "metadata": {
    "id": "hSqlvJUmk_4b"
   },
   "source": [
    "**Standardization**"
   ]
  },
  {
   "cell_type": "code",
   "execution_count": 27,
   "metadata": {
    "colab": {
     "base_uri": "https://localhost:8080/"
    },
    "executionInfo": {
     "elapsed": 70,
     "status": "ok",
     "timestamp": 1644230499259,
     "user": {
      "displayName": "Chetan Kate",
      "photoUrl": "https://lh3.googleusercontent.com/a/default-user=s64",
      "userId": "14148496702909736816"
     },
     "user_tz": -330
    },
    "id": "vSVjJItmk9O9",
    "outputId": "47979414-d8d0-4fe2-e506-d115a25c6cb9"
   },
   "outputs": [
    {
     "name": "stdout",
     "output_type": "stream",
     "text": [
      "After Scaling training data : \n",
      "[[ 0.99433652 -0.9528351  -0.64455136 ... -0.49748235  0.12975533\n",
      "  -0.38003157]\n",
      " [-1.00569573  1.04949954  1.55146675 ...  1.49818033  1.29989652\n",
      "   2.278386  ]\n",
      " [ 0.99433652  1.04949954 -0.64455136 ... -0.82330483  0.51980239\n",
      "  -0.58545094]\n",
      " ...\n",
      " [ 0.99433652 -0.9528351  -0.64455136 ... -0.17165987  1.35798864\n",
      "   0.30909311]\n",
      " [ 0.99433652 -0.9528351  -0.64455136 ... -1.23058292 -0.34494024\n",
      "  -0.9540156 ]\n",
      " [-1.00569573  1.04949954  1.55146675 ... -0.66039359  0.11481736\n",
      "  -0.5128709 ]]\n",
      "After scaling tesring data : \n",
      "[[-1.00569573 -0.9528351  -0.64455136 ...  0.35780166  0.4998851\n",
      "   0.45952092]\n",
      " [-1.00569573 -0.9528351  -0.64455136 ...  1.3759969   1.2484435\n",
      "   1.84857022]\n",
      " [-1.00569573 -0.9528351  -0.64455136 ... -0.82330483 -0.65697789\n",
      "  -0.77317162]\n",
      " ...\n",
      " [ 0.99433652 -0.9528351  -0.64455136 ... -0.45675454  1.06254873\n",
      "  -0.10932763]\n",
      " [-1.00569573  1.04949954  1.55146675 ...  1.53890814 -0.21215826\n",
      "   0.80882201]\n",
      " [-1.00569573 -0.9528351  -0.64455136 ...  0.5207129   0.29075348\n",
      "   0.472018  ]]\n"
     ]
    }
   ],
   "source": [
    "# Only on Input columns if we performing the sampling technique, \n",
    "# but we performing the LinearRegression then apply on both input and output\n",
    "from sklearn.preprocessing import StandardScaler\n",
    "\n",
    "\n",
    "\n",
    "# fit_transform on training data X_train and transform on testing data X_test\n",
    "# Create object of StandardScaler Class\n",
    "ss = StandardScaler()\n",
    "X_train=ss.fit_transform(X_train)\n",
    "X_test=ss.transform(X_test) # here not training operation wouldn't perform, its only for testing\n",
    "print(\"After Scaling training data : \")\n",
    "print(X_train)\n",
    "print(\"After scaling tesring data : \")\n",
    "print(X_test)"
   ]
  },
  {
   "cell_type": "code",
   "execution_count": 28,
   "metadata": {
    "executionInfo": {
     "elapsed": 64,
     "status": "ok",
     "timestamp": 1644230499259,
     "user": {
      "displayName": "Chetan Kate",
      "photoUrl": "https://lh3.googleusercontent.com/a/default-user=s64",
      "userId": "14148496702909736816"
     },
     "user_tz": -330
    },
    "id": "SGLWDq52k_Vs"
   },
   "outputs": [],
   "source": [
    "#BaseLine model : Logistic Regression\n",
    "from sklearn.metrics import confusion_matrix\n",
    "from sklearn.metrics import classification_report\n",
    "#Base Line Model means use Logistic Regression(we predict yes/no values then \n",
    "#use classification algorithm)\n",
    "from sklearn.linear_model import LogisticRegression"
   ]
  },
  {
   "cell_type": "code",
   "execution_count": 29,
   "metadata": {
    "executionInfo": {
     "elapsed": 64,
     "status": "ok",
     "timestamp": 1644230499260,
     "user": {
      "displayName": "Chetan Kate",
      "photoUrl": "https://lh3.googleusercontent.com/a/default-user=s64",
      "userId": "14148496702909736816"
     },
     "user_tz": -330
    },
    "id": "HYUX8HBglGDk"
   },
   "outputs": [],
   "source": [
    "def create_model(model):\n",
    "  model.fit(X_train,Y_train)\n",
    "  Y_pred = model.predict(X_test)\n",
    "  print(classification_report(Y_test,Y_pred))\n",
    "  print(\"Confusion matrix\")\n",
    "  print(confusion_matrix(Y_test,Y_pred))\n",
    "  return model"
   ]
  },
  {
   "cell_type": "code",
   "execution_count": 30,
   "metadata": {
    "executionInfo": {
     "elapsed": 65,
     "status": "ok",
     "timestamp": 1644230499261,
     "user": {
      "displayName": "Chetan Kate",
      "photoUrl": "https://lh3.googleusercontent.com/a/default-user=s64",
      "userId": "14148496702909736816"
     },
     "user_tz": -330
    },
    "id": "tVBfyuG9lKm1"
   },
   "outputs": [],
   "source": [
    "# Create the object of LogisticRegression class\n",
    "lr= LogisticRegression()"
   ]
  },
  {
   "cell_type": "code",
   "execution_count": 31,
   "metadata": {
    "colab": {
     "base_uri": "https://localhost:8080/"
    },
    "executionInfo": {
     "elapsed": 64,
     "status": "ok",
     "timestamp": 1644230499261,
     "user": {
      "displayName": "Chetan Kate",
      "photoUrl": "https://lh3.googleusercontent.com/a/default-user=s64",
      "userId": "14148496702909736816"
     },
     "user_tz": -330
    },
    "id": "nlF4uG8nlXBc",
    "outputId": "a132d37f-7259-44c4-a298-305af6045ac3"
   },
   "outputs": [
    {
     "name": "stdout",
     "output_type": "stream",
     "text": [
      "              precision    recall  f1-score   support\n",
      "\n",
      "           0       0.86      0.88      0.87      1585\n",
      "           1       0.63      0.59      0.61       528\n",
      "\n",
      "    accuracy                           0.81      2113\n",
      "   macro avg       0.75      0.73      0.74      2113\n",
      "weighted avg       0.81      0.81      0.81      2113\n",
      "\n",
      "Confusion matrix\n",
      "[[1401  184]\n",
      " [ 219  309]]\n"
     ]
    }
   ],
   "source": [
    "# Call the function\n",
    "lr = create_model(lr)"
   ]
  },
  {
   "cell_type": "code",
   "execution_count": 32,
   "metadata": {
    "colab": {
     "base_uri": "https://localhost:8080/"
    },
    "executionInfo": {
     "elapsed": 60,
     "status": "ok",
     "timestamp": 1644230499262,
     "user": {
      "displayName": "Chetan Kate",
      "photoUrl": "https://lh3.googleusercontent.com/a/default-user=s64",
      "userId": "14148496702909736816"
     },
     "user_tz": -330
    },
    "id": "mHJQmdKxlYbb",
    "outputId": "d9acd5db-9692-4b48-d924-47194664e06c"
   },
   "outputs": [
    {
     "data": {
      "text/plain": [
       "No     5174\n",
       "Yes    1869\n",
       "Name: Churn, dtype: int64"
      ]
     },
     "execution_count": 32,
     "metadata": {},
     "output_type": "execute_result"
    }
   ],
   "source": [
    "df[\"Churn\"].value_counts()"
   ]
  },
  {
   "cell_type": "code",
   "execution_count": 33,
   "metadata": {
    "colab": {
     "base_uri": "https://localhost:8080/",
     "height": 279
    },
    "executionInfo": {
     "elapsed": 58,
     "status": "ok",
     "timestamp": 1644230499262,
     "user": {
      "displayName": "Chetan Kate",
      "photoUrl": "https://lh3.googleusercontent.com/a/default-user=s64",
      "userId": "14148496702909736816"
     },
     "user_tz": -330
    },
    "id": "EOhuk06lla2a",
    "outputId": "4ca5c3ef-7ed9-490d-c100-6d35fed0d677"
   },
   "outputs": [
    {
     "data": {
      "image/png": "[encoded data removed]",
      "text/plain": [
       "<Figure size 432x288 with 1 Axes>"
      ]
     },
     "metadata": {
      "needs_background": "light"
     },
     "output_type": "display_data"
    }
   ],
   "source": [
    "sns.countplot(data=df_new,x=\"Churn\")\n",
    "c = df[\"Churn\"].value_counts()\n",
    "plt.yticks(c)\n",
    "plt.show()"
   ]
  },
  {
   "cell_type": "code",
   "execution_count": 99,
   "metadata": {},
   "outputs": [
    {
     "data": {
      "image/png": "[encoded data removed]",
      "text/plain": [
       "<Figure size 1008x648 with 2 Axes>"
      ]
     },
     "metadata": {
      "needs_background": "light"
     },
     "output_type": "display_data"
    }
   ],
   "source": [
    "plt.figure(figsize = (14,9))\n",
    "sns.heatmap(df_new.corr(),annot=True)\n",
    "plt.show()"
   ]
  },
  {
   "cell_type": "markdown",
   "metadata": {
    "id": "FRL7qBFMlfGS"
   },
   "source": [
    "data is not balance.\n",
    "\n",
    "\n",
    "1.   If you have basicall reducing the majority class that is known as Random Undersampling.\n",
    "2.   If you are increasing the minority class that is \n",
    "known as Random over sampling.\n",
    "\n",
    "\n"
   ]
  },
  {
   "cell_type": "code",
   "execution_count": 35,
   "metadata": {
    "executionInfo": {
     "elapsed": 58,
     "status": "ok",
     "timestamp": 1644230499263,
     "user": {
      "displayName": "Chetan Kate",
      "photoUrl": "https://lh3.googleusercontent.com/a/default-user=s64",
      "userId": "14148496702909736816"
     },
     "user_tz": -330
    },
    "id": "0Cee_YRHlcMz"
   },
   "outputs": [],
   "source": [
    "# First time install imbearn package\n",
    "from imblearn.under_sampling import RandomUnderSampler\n",
    "from imblearn.over_sampling import RandomOverSampler"
   ]
  },
  {
   "cell_type": "markdown",
   "metadata": {
    "id": "H24ulxVJljwY"
   },
   "source": [
    "**Random Over Sampling**"
   ]
  },
  {
   "cell_type": "code",
   "execution_count": 36,
   "metadata": {
    "executionInfo": {
     "elapsed": 57,
     "status": "ok",
     "timestamp": 1644230499263,
     "user": {
      "displayName": "Chetan Kate",
      "photoUrl": "https://lh3.googleusercontent.com/a/default-user=s64",
      "userId": "14148496702909736816"
     },
     "user_tz": -330
    },
    "id": "DIyT4wJolhrD"
   },
   "outputs": [],
   "source": [
    "# Use RnadomOverSampler\n",
    "# Create Object of RandomOverSampler() class\n",
    "ros = RandomOverSampler()"
   ]
  },
  {
   "cell_type": "code",
   "execution_count": 37,
   "metadata": {
    "executionInfo": {
     "elapsed": 58,
     "status": "ok",
     "timestamp": 1644230499264,
     "user": {
      "displayName": "Chetan Kate",
      "photoUrl": "https://lh3.googleusercontent.com/a/default-user=s64",
      "userId": "14148496702909736816"
     },
     "user_tz": -330
    },
    "id": "Qgf9Oo40lo5T"
   },
   "outputs": [],
   "source": [
    "# RandomOverSampler method = fit_resample() inbuilt of RandomOverSampler\n",
    "X_train1, Y_train1 = ros.fit_resample(X_train,Y_train)  # Increasing the \" Yes \" Record as Duplicate values."
   ]
  },
  {
   "cell_type": "code",
   "execution_count": 38,
   "metadata": {
    "colab": {
     "base_uri": "https://localhost:8080/"
    },
    "executionInfo": {
     "elapsed": 57,
     "status": "ok",
     "timestamp": 1644230499264,
     "user": {
      "displayName": "Chetan Kate",
      "photoUrl": "https://lh3.googleusercontent.com/a/default-user=s64",
      "userId": "14148496702909736816"
     },
     "user_tz": -330
    },
    "id": "yCa25fJMlqgi",
    "outputId": "0c0ce42c-f94f-4854-e68e-c0c1e41fcbdb"
   },
   "outputs": [
    {
     "data": {
      "text/plain": [
       "0    3589\n",
       "1    1341\n",
       "Name: Churn, dtype: int64"
      ]
     },
     "execution_count": 38,
     "metadata": {},
     "output_type": "execute_result"
    }
   ],
   "source": [
    "# Before Apply RandomOverSampler() on training data\n",
    "pd.Series(Y_train).value_counts()"
   ]
  },
  {
   "cell_type": "code",
   "execution_count": 39,
   "metadata": {
    "colab": {
     "base_uri": "https://localhost:8080/"
    },
    "executionInfo": {
     "elapsed": 55,
     "status": "ok",
     "timestamp": 1644230499265,
     "user": {
      "displayName": "Chetan Kate",
      "photoUrl": "https://lh3.googleusercontent.com/a/default-user=s64",
      "userId": "14148496702909736816"
     },
     "user_tz": -330
    },
    "id": "HuTTwaHhlseL",
    "outputId": "7763d5c6-c97a-4656-e3b7-07670d01f847"
   },
   "outputs": [
    {
     "data": {
      "text/plain": [
       "0    3589\n",
       "1    3589\n",
       "Name: Churn, dtype: int64"
      ]
     },
     "execution_count": 39,
     "metadata": {},
     "output_type": "execute_result"
    }
   ],
   "source": [
    "# After Applying RandomOverSampler() on training data\n",
    "pd.Series(Y_train1).value_counts()"
   ]
  },
  {
   "cell_type": "code",
   "execution_count": 40,
   "metadata": {
    "executionInfo": {
     "elapsed": 53,
     "status": "ok",
     "timestamp": 1644230499265,
     "user": {
      "displayName": "Chetan Kate",
      "photoUrl": "https://lh3.googleusercontent.com/a/default-user=s64",
      "userId": "14148496702909736816"
     },
     "user_tz": -330
    },
    "id": "b5xpNlFLluDb"
   },
   "outputs": [],
   "source": [
    "# RandomOverSampler method = fit_resample() inbuilt of RandomOverSampler\n",
    "# Apply RandomOverSampler() on 30% testing data\n",
    "X_test1, Y_test1 = ros.fit_resample(X_test,Y_test)"
   ]
  },
  {
   "cell_type": "code",
   "execution_count": 41,
   "metadata": {
    "colab": {
     "base_uri": "https://localhost:8080/"
    },
    "executionInfo": {
     "elapsed": 53,
     "status": "ok",
     "timestamp": 1644230499266,
     "user": {
      "displayName": "Chetan Kate",
      "photoUrl": "https://lh3.googleusercontent.com/a/default-user=s64",
      "userId": "14148496702909736816"
     },
     "user_tz": -330
    },
    "id": "PZq18JpJlwwi",
    "outputId": "98e59695-356e-4113-bd6d-6d463ecded7d"
   },
   "outputs": [
    {
     "data": {
      "text/plain": [
       "0    1585\n",
       "1     528\n",
       "Name: Churn, dtype: int64"
      ]
     },
     "execution_count": 41,
     "metadata": {},
     "output_type": "execute_result"
    }
   ],
   "source": [
    "# Before Apply RandomOverSampler() on testing data\n",
    "pd.Series(Y_test).value_counts()"
   ]
  },
  {
   "cell_type": "code",
   "execution_count": 42,
   "metadata": {
    "colab": {
     "base_uri": "https://localhost:8080/"
    },
    "executionInfo": {
     "elapsed": 50,
     "status": "ok",
     "timestamp": 1644230499266,
     "user": {
      "displayName": "Chetan Kate",
      "photoUrl": "https://lh3.googleusercontent.com/a/default-user=s64",
      "userId": "14148496702909736816"
     },
     "user_tz": -330
    },
    "id": "1lKMo1GFl1aq",
    "outputId": "080945a3-7e6d-406f-91f8-0756f0dd0f39"
   },
   "outputs": [
    {
     "data": {
      "text/plain": [
       "0    1585\n",
       "1    1585\n",
       "Name: Churn, dtype: int64"
      ]
     },
     "execution_count": 42,
     "metadata": {},
     "output_type": "execute_result"
    }
   ],
   "source": [
    "# After Applying RandomOverSampler() on testing data\n",
    "pd.Series(Y_test1).value_counts()"
   ]
  },
  {
   "cell_type": "code",
   "execution_count": 43,
   "metadata": {
    "executionInfo": {
     "elapsed": 49,
     "status": "ok",
     "timestamp": 1644230499267,
     "user": {
      "displayName": "Chetan Kate",
      "photoUrl": "https://lh3.googleusercontent.com/a/default-user=s64",
      "userId": "14148496702909736816"
     },
     "user_tz": -330
    },
    "id": "Gi238uMJl2qy"
   },
   "outputs": [],
   "source": [
    "# Create a function\n",
    "def create_newmodel(model):\n",
    "  model.fit(X_train1,Y_train1)\n",
    "  Y_pred = model.predict(X_test1)\n",
    "  print(classification_report(Y_test1,Y_pred))\n",
    "  print(\"Confusion matrix\")\n",
    "  print(confusion_matrix(Y_test1,Y_pred))\n",
    "  return model"
   ]
  },
  {
   "cell_type": "code",
   "execution_count": 44,
   "metadata": {
    "colab": {
     "base_uri": "https://localhost:8080/"
    },
    "executionInfo": {
     "elapsed": 48,
     "status": "ok",
     "timestamp": 1644230499267,
     "user": {
      "displayName": "Chetan Kate",
      "photoUrl": "https://lh3.googleusercontent.com/a/default-user=s64",
      "userId": "14148496702909736816"
     },
     "user_tz": -330
    },
    "id": "rPLmiIammAKx",
    "outputId": "a8d3661b-f267-49fd-9e3f-208fe5cb12dc"
   },
   "outputs": [
    {
     "name": "stdout",
     "output_type": "stream",
     "text": [
      "              precision    recall  f1-score   support\n",
      "\n",
      "           0       0.81      0.73      0.77      1585\n",
      "           1       0.75      0.82      0.79      1585\n",
      "\n",
      "    accuracy                           0.78      3170\n",
      "   macro avg       0.78      0.78      0.78      3170\n",
      "weighted avg       0.78      0.78      0.78      3170\n",
      "\n",
      "Confusion matrix\n",
      "[[1158  427]\n",
      " [ 280 1305]]\n"
     ]
    }
   ],
   "source": [
    "# Call the function\n",
    "lr=create_newmodel(lr)"
   ]
  },
  {
   "cell_type": "markdown",
   "metadata": {
    "id": "ZZ5ZU0qcmNNv"
   },
   "source": [
    "**Decision Tree**"
   ]
  },
  {
   "cell_type": "code",
   "execution_count": 45,
   "metadata": {
    "executionInfo": {
     "elapsed": 47,
     "status": "ok",
     "timestamp": 1644230499268,
     "user": {
      "displayName": "Chetan Kate",
      "photoUrl": "https://lh3.googleusercontent.com/a/default-user=s64",
      "userId": "14148496702909736816"
     },
     "user_tz": -330
    },
    "id": "SV6Ow67omG3x"
   },
   "outputs": [],
   "source": [
    "from sklearn.tree import DecisionTreeClassifier\n",
    "# Create the object of DecisionTreeClassifier()\n",
    "dt = DecisionTreeClassifier()"
   ]
  },
  {
   "cell_type": "markdown",
   "metadata": {
    "id": "pQMqiWtCnT-s"
   },
   "source": [
    "**Gini Index**"
   ]
  },
  {
   "cell_type": "code",
   "execution_count": 46,
   "metadata": {
    "colab": {
     "base_uri": "https://localhost:8080/"
    },
    "executionInfo": {
     "elapsed": 47,
     "status": "ok",
     "timestamp": 1644230499268,
     "user": {
      "displayName": "Chetan Kate",
      "photoUrl": "https://lh3.googleusercontent.com/a/default-user=s64",
      "userId": "14148496702909736816"
     },
     "user_tz": -330
    },
    "id": "V1-aLC_hmSfI",
    "outputId": "4cfe822e-599d-4419-cdc7-050bbbead42e"
   },
   "outputs": [
    {
     "name": "stdout",
     "output_type": "stream",
     "text": [
      "              precision    recall  f1-score   support\n",
      "\n",
      "           0       0.62      0.81      0.71      1585\n",
      "           1       0.73      0.51      0.60      1585\n",
      "\n",
      "    accuracy                           0.66      3170\n",
      "   macro avg       0.68      0.66      0.65      3170\n",
      "weighted avg       0.68      0.66      0.65      3170\n",
      "\n",
      "Confusion matrix\n",
      "[[1284  301]\n",
      " [ 773  812]]\n"
     ]
    }
   ],
   "source": [
    "# Call the function\n",
    "dt=create_newmodel(dt) # By default its GINI INDEX"
   ]
  },
  {
   "cell_type": "markdown",
   "metadata": {
    "id": "t-52Yz7onOwb"
   },
   "source": [
    "**Pruning techniques**"
   ]
  },
  {
   "cell_type": "code",
   "execution_count": 47,
   "metadata": {
    "executionInfo": {
     "elapsed": 46,
     "status": "ok",
     "timestamp": 1644230499270,
     "user": {
      "displayName": "Chetan Kate",
      "photoUrl": "https://lh3.googleusercontent.com/a/default-user=s64",
      "userId": "14148496702909736816"
     },
     "user_tz": -330
    },
    "id": "yLOI5ASsmWUI"
   },
   "outputs": [],
   "source": [
    "# Max Depth\n",
    "# Create the Object of Decision Tree Classifier \n",
    "dt2 = DecisionTreeClassifier(max_depth=7)"
   ]
  },
  {
   "cell_type": "code",
   "execution_count": 48,
   "metadata": {
    "colab": {
     "base_uri": "https://localhost:8080/"
    },
    "executionInfo": {
     "elapsed": 619,
     "status": "ok",
     "timestamp": 1644230499843,
     "user": {
      "displayName": "Chetan Kate",
      "photoUrl": "https://lh3.googleusercontent.com/a/default-user=s64",
      "userId": "14148496702909736816"
     },
     "user_tz": -330
    },
    "id": "wzq4IGjfmz03",
    "outputId": "ddf39d32-cf62-47c5-ca40-0d9f8fa47e3f"
   },
   "outputs": [
    {
     "name": "stdout",
     "output_type": "stream",
     "text": [
      "              precision    recall  f1-score   support\n",
      "\n",
      "           0       0.77      0.71      0.74      1585\n",
      "           1       0.73      0.79      0.76      1585\n",
      "\n",
      "    accuracy                           0.75      3170\n",
      "   macro avg       0.75      0.75      0.75      3170\n",
      "weighted avg       0.75      0.75      0.75      3170\n",
      "\n",
      "Confusion matrix\n",
      "[[1125  460]\n",
      " [ 330 1255]]\n"
     ]
    }
   ],
   "source": [
    "# Call the function\n",
    "dt2 = create_newmodel(dt2)"
   ]
  },
  {
   "cell_type": "code",
   "execution_count": 49,
   "metadata": {
    "executionInfo": {
     "elapsed": 66,
     "status": "ok",
     "timestamp": 1644230499845,
     "user": {
      "displayName": "Chetan Kate",
      "photoUrl": "https://lh3.googleusercontent.com/a/default-user=s64",
      "userId": "14148496702909736816"
     },
     "user_tz": -330
    },
    "id": "QQTplU9on86a"
   },
   "outputs": [],
   "source": [
    "# Mini Samples Leaf.\n",
    "dt_2 = DecisionTreeClassifier(min_samples_leaf= 60)"
   ]
  },
  {
   "cell_type": "code",
   "execution_count": 50,
   "metadata": {
    "colab": {
     "base_uri": "https://localhost:8080/"
    },
    "executionInfo": {
     "elapsed": 65,
     "status": "ok",
     "timestamp": 1644230499845,
     "user": {
      "displayName": "Chetan Kate",
      "photoUrl": "https://lh3.googleusercontent.com/a/default-user=s64",
      "userId": "14148496702909736816"
     },
     "user_tz": -330
    },
    "id": "xtFtO7VqoGK-",
    "outputId": "f43326e1-37c9-4128-c7f8-88d04e514fc7"
   },
   "outputs": [
    {
     "name": "stdout",
     "output_type": "stream",
     "text": [
      "              precision    recall  f1-score   support\n",
      "\n",
      "           0       0.77      0.75      0.76      1585\n",
      "           1       0.75      0.78      0.77      1585\n",
      "\n",
      "    accuracy                           0.76      3170\n",
      "   macro avg       0.76      0.76      0.76      3170\n",
      "weighted avg       0.76      0.76      0.76      3170\n",
      "\n",
      "Confusion matrix\n",
      "[[1182  403]\n",
      " [ 347 1238]]\n"
     ]
    }
   ],
   "source": [
    "dt_2=create_newmodel(dt_2)"
   ]
  },
  {
   "cell_type": "markdown",
   "metadata": {
    "id": "k4-9RcjhnXdb"
   },
   "source": [
    "**Entropy**"
   ]
  },
  {
   "cell_type": "code",
   "execution_count": 51,
   "metadata": {
    "executionInfo": {
     "elapsed": 51,
     "status": "ok",
     "timestamp": 1644230499846,
     "user": {
      "displayName": "Chetan Kate",
      "photoUrl": "https://lh3.googleusercontent.com/a/default-user=s64",
      "userId": "14148496702909736816"
     },
     "user_tz": -330
    },
    "id": "VlxDpFQinCJW"
   },
   "outputs": [],
   "source": [
    "# Create the object of DecisionTreeClassifier for Entropy\n",
    "dt3 = DecisionTreeClassifier(criterion='entropy')"
   ]
  },
  {
   "cell_type": "code",
   "execution_count": 52,
   "metadata": {
    "colab": {
     "base_uri": "https://localhost:8080/"
    },
    "executionInfo": {
     "elapsed": 51,
     "status": "ok",
     "timestamp": 1644230499847,
     "user": {
      "displayName": "Chetan Kate",
      "photoUrl": "https://lh3.googleusercontent.com/a/default-user=s64",
      "userId": "14148496702909736816"
     },
     "user_tz": -330
    },
    "id": "Y9MF4jY6nn20",
    "outputId": "0791a5c3-d944-4ecb-aea3-7f1e39a62a2e"
   },
   "outputs": [
    {
     "name": "stdout",
     "output_type": "stream",
     "text": [
      "              precision    recall  f1-score   support\n",
      "\n",
      "           0       0.63      0.81      0.71      1585\n",
      "           1       0.73      0.53      0.61      1585\n",
      "\n",
      "    accuracy                           0.67      3170\n",
      "   macro avg       0.68      0.67      0.66      3170\n",
      "weighted avg       0.68      0.67      0.66      3170\n",
      "\n",
      "Confusion matrix\n",
      "[[1280  305]\n",
      " [ 748  837]]\n"
     ]
    }
   ],
   "source": [
    "# Call the function\n",
    "dt3 = create_newmodel(dt3)"
   ]
  },
  {
   "cell_type": "markdown",
   "metadata": {
    "id": "Jdsf5DWsnt37"
   },
   "source": [
    "**Pruning Techniques for Entropy**"
   ]
  },
  {
   "cell_type": "code",
   "execution_count": 53,
   "metadata": {
    "executionInfo": {
     "elapsed": 43,
     "status": "ok",
     "timestamp": 1644230499847,
     "user": {
      "displayName": "Chetan Kate",
      "photoUrl": "https://lh3.googleusercontent.com/a/default-user=s64",
      "userId": "14148496702909736816"
     },
     "user_tz": -330
    },
    "id": "O9rhP-pDnscs"
   },
   "outputs": [],
   "source": [
    "# Create the object of decisionTreeClassifier \n",
    "dt4 = DecisionTreeClassifier(criterion='entropy',max_depth=7)"
   ]
  },
  {
   "cell_type": "code",
   "execution_count": 54,
   "metadata": {
    "colab": {
     "base_uri": "https://localhost:8080/"
    },
    "executionInfo": {
     "elapsed": 43,
     "status": "ok",
     "timestamp": 1644230499848,
     "user": {
      "displayName": "Chetan Kate",
      "photoUrl": "https://lh3.googleusercontent.com/a/default-user=s64",
      "userId": "14148496702909736816"
     },
     "user_tz": -330
    },
    "id": "a9h4j5EKoqxx",
    "outputId": "b5f238af-791c-4d60-be09-873b268a4658"
   },
   "outputs": [
    {
     "name": "stdout",
     "output_type": "stream",
     "text": [
      "              precision    recall  f1-score   support\n",
      "\n",
      "           0       0.78      0.72      0.75      1585\n",
      "           1       0.74      0.80      0.77      1585\n",
      "\n",
      "    accuracy                           0.76      3170\n",
      "   macro avg       0.76      0.76      0.76      3170\n",
      "weighted avg       0.76      0.76      0.76      3170\n",
      "\n",
      "Confusion matrix\n",
      "[[1134  451]\n",
      " [ 317 1268]]\n"
     ]
    }
   ],
   "source": [
    "# Call the function\\\n",
    "dt4 = create_newmodel(dt4)"
   ]
  },
  {
   "cell_type": "code",
   "execution_count": 55,
   "metadata": {
    "executionInfo": {
     "elapsed": 37,
     "status": "ok",
     "timestamp": 1644230499848,
     "user": {
      "displayName": "Chetan Kate",
      "photoUrl": "https://lh3.googleusercontent.com/a/default-user=s64",
      "userId": "14148496702909736816"
     },
     "user_tz": -330
    },
    "id": "9kNjdDtpovDJ"
   },
   "outputs": [],
   "source": [
    "# Create object of decisiontree classifier for min samples leaf\n",
    "dt_4 = DecisionTreeClassifier(criterion='entropy',min_samples_leaf=50)"
   ]
  },
  {
   "cell_type": "code",
   "execution_count": 56,
   "metadata": {
    "colab": {
     "base_uri": "https://localhost:8080/"
    },
    "executionInfo": {
     "elapsed": 35,
     "status": "ok",
     "timestamp": 1644230499849,
     "user": {
      "displayName": "Chetan Kate",
      "photoUrl": "https://lh3.googleusercontent.com/a/default-user=s64",
      "userId": "14148496702909736816"
     },
     "user_tz": -330
    },
    "id": "SCsS0K5upCKK",
    "outputId": "cfc86d81-c08f-4e15-f4dc-c0234638c03e"
   },
   "outputs": [
    {
     "name": "stdout",
     "output_type": "stream",
     "text": [
      "              precision    recall  f1-score   support\n",
      "\n",
      "           0       0.77      0.73      0.75      1585\n",
      "           1       0.74      0.78      0.76      1585\n",
      "\n",
      "    accuracy                           0.75      3170\n",
      "   macro avg       0.76      0.75      0.75      3170\n",
      "weighted avg       0.76      0.75      0.75      3170\n",
      "\n",
      "Confusion matrix\n",
      "[[1150  435]\n",
      " [ 343 1242]]\n"
     ]
    }
   ],
   "source": [
    "# Call the function\n",
    "dt_4 = create_newmodel(dt_4)"
   ]
  },
  {
   "cell_type": "markdown",
   "metadata": {
    "id": "XmkiqavjpgBm"
   },
   "source": [
    "**Ensemble Techniques**"
   ]
  },
  {
   "cell_type": "code",
   "execution_count": 57,
   "metadata": {
    "executionInfo": {
     "elapsed": 31,
     "status": "ok",
     "timestamp": 1644230499850,
     "user": {
      "displayName": "Chetan Kate",
      "photoUrl": "https://lh3.googleusercontent.com/a/default-user=s64",
      "userId": "14148496702909736816"
     },
     "user_tz": -330
    },
    "id": "8QY3XHaNpIQQ"
   },
   "outputs": [],
   "source": [
    "# Create the model list\n",
    "model_list = [(\"logistic\",lr),(\"DecisionTree_Gini\",dt2),(\"DecisionTree_Entropy\",dt4)]"
   ]
  },
  {
   "cell_type": "code",
   "execution_count": 58,
   "metadata": {
    "executionInfo": {
     "elapsed": 32,
     "status": "ok",
     "timestamp": 1644230499853,
     "user": {
      "displayName": "Chetan Kate",
      "photoUrl": "https://lh3.googleusercontent.com/a/default-user=s64",
      "userId": "14148496702909736816"
     },
     "user_tz": -330
    },
    "id": "zfO8zlagsatl"
   },
   "outputs": [],
   "source": [
    "# Then we need Naive Aggregation\n",
    "# We importing class\n",
    "from sklearn.ensemble import VotingClassifier"
   ]
  },
  {
   "cell_type": "code",
   "execution_count": 59,
   "metadata": {
    "executionInfo": {
     "elapsed": 34,
     "status": "ok",
     "timestamp": 1644230499855,
     "user": {
      "displayName": "Chetan Kate",
      "photoUrl": "https://lh3.googleusercontent.com/a/default-user=s64",
      "userId": "14148496702909736816"
     },
     "user_tz": -330
    },
    "id": "zs0BLhoRsgON"
   },
   "outputs": [],
   "source": [
    "# Create the object of VotingClassifier and passing thge parameter \n",
    "# model_list\n",
    "vc = VotingClassifier(estimators=model_list) # Bydefault hard voting "
   ]
  },
  {
   "cell_type": "code",
   "execution_count": 60,
   "metadata": {
    "colab": {
     "base_uri": "https://localhost:8080/"
    },
    "executionInfo": {
     "elapsed": 34,
     "status": "ok",
     "timestamp": 1644230499856,
     "user": {
      "displayName": "Chetan Kate",
      "photoUrl": "https://lh3.googleusercontent.com/a/default-user=s64",
      "userId": "14148496702909736816"
     },
     "user_tz": -330
    },
    "id": "I76ASwDXsiCN",
    "outputId": "6c60c0a9-7f73-4c6c-b75e-7c2e7c6e7e6b"
   },
   "outputs": [
    {
     "name": "stdout",
     "output_type": "stream",
     "text": [
      "              precision    recall  f1-score   support\n",
      "\n",
      "           0       0.79      0.73      0.75      1585\n",
      "           1       0.75      0.80      0.77      1585\n",
      "\n",
      "    accuracy                           0.76      3170\n",
      "   macro avg       0.77      0.76      0.76      3170\n",
      "weighted avg       0.77      0.76      0.76      3170\n",
      "\n",
      "Confusion matrix\n",
      "[[1150  435]\n",
      " [ 314 1271]]\n"
     ]
    }
   ],
   "source": [
    "# Call the function\n",
    "vc = create_newmodel(vc)"
   ]
  },
  {
   "cell_type": "code",
   "execution_count": 61,
   "metadata": {
    "executionInfo": {
     "elapsed": 26,
     "status": "ok",
     "timestamp": 1644230499856,
     "user": {
      "displayName": "Chetan Kate",
      "photoUrl": "https://lh3.googleusercontent.com/a/default-user=s64",
      "userId": "14148496702909736816"
     },
     "user_tz": -330
    },
    "id": "jin9tk6ZskFd"
   },
   "outputs": [],
   "source": [
    "# Soft Voting \n",
    "# Create the object of the VotingClassifier and passing the parameter \n",
    "# model_list\n",
    "vc1 = VotingClassifier(estimators=model_list,voting=\"soft\")\n",
    "# by default hard voting"
   ]
  },
  {
   "cell_type": "code",
   "execution_count": 62,
   "metadata": {
    "colab": {
     "base_uri": "https://localhost:8080/"
    },
    "executionInfo": {
     "elapsed": 606,
     "status": "ok",
     "timestamp": 1644230500437,
     "user": {
      "displayName": "Chetan Kate",
      "photoUrl": "https://lh3.googleusercontent.com/a/default-user=s64",
      "userId": "14148496702909736816"
     },
     "user_tz": -330
    },
    "id": "0Haa2u4jsp61",
    "outputId": "c182256c-469d-4e71-c30e-c4b40c055e5b"
   },
   "outputs": [
    {
     "name": "stdout",
     "output_type": "stream",
     "text": [
      "              precision    recall  f1-score   support\n",
      "\n",
      "           0       0.78      0.74      0.76      1585\n",
      "           1       0.75      0.80      0.77      1585\n",
      "\n",
      "    accuracy                           0.77      3170\n",
      "   macro avg       0.77      0.77      0.77      3170\n",
      "weighted avg       0.77      0.77      0.77      3170\n",
      "\n",
      "Confusion matrix\n",
      "[[1165  420]\n",
      " [ 324 1261]]\n"
     ]
    }
   ],
   "source": [
    "# Call the function\n",
    "vc1 = create_newmodel(vc1)"
   ]
  },
  {
   "cell_type": "code",
   "execution_count": 63,
   "metadata": {
    "executionInfo": {
     "elapsed": 7,
     "status": "ok",
     "timestamp": 1644230500438,
     "user": {
      "displayName": "Chetan Kate",
      "photoUrl": "https://lh3.googleusercontent.com/a/default-user=s64",
      "userId": "14148496702909736816"
     },
     "user_tz": -330
    },
    "id": "oOWkALY1swRd"
   },
   "outputs": [],
   "source": [
    "# 1. Bagging method\n",
    "from sklearn.ensemble import BaggingClassifier"
   ]
  },
  {
   "cell_type": "code",
   "execution_count": 64,
   "metadata": {
    "executionInfo": {
     "elapsed": 7,
     "status": "ok",
     "timestamp": 1644230500439,
     "user": {
      "displayName": "Chetan Kate",
      "photoUrl": "https://lh3.googleusercontent.com/a/default-user=s64",
      "userId": "14148496702909736816"
     },
     "user_tz": -330
    },
    "id": "r4fIIliks3GF"
   },
   "outputs": [],
   "source": [
    "# Create the object of BaggingClassifier class\n",
    "bc = BaggingClassifier(LogisticRegression(),n_estimators=10,max_samples=704,random_state=1)\n",
    "# (name_alogrithms,how_many time algorithm, no. of records )"
   ]
  },
  {
   "cell_type": "code",
   "execution_count": 65,
   "metadata": {
    "colab": {
     "base_uri": "https://localhost:8080/"
    },
    "executionInfo": {
     "elapsed": 498,
     "status": "ok",
     "timestamp": 1644230500931,
     "user": {
      "displayName": "Chetan Kate",
      "photoUrl": "https://lh3.googleusercontent.com/a/default-user=s64",
      "userId": "14148496702909736816"
     },
     "user_tz": -330
    },
    "id": "q4IZSc80uFck",
    "outputId": "537fb135-1de6-4abd-e47d-dcf9b53cc5b8"
   },
   "outputs": [
    {
     "name": "stdout",
     "output_type": "stream",
     "text": [
      "              precision    recall  f1-score   support\n",
      "\n",
      "           0       0.80      0.73      0.76      1585\n",
      "           1       0.75      0.82      0.78      1585\n",
      "\n",
      "    accuracy                           0.77      3170\n",
      "   macro avg       0.78      0.77      0.77      3170\n",
      "weighted avg       0.78      0.77      0.77      3170\n",
      "\n",
      "Confusion matrix\n",
      "[[1161  424]\n",
      " [ 293 1292]]\n"
     ]
    }
   ],
   "source": [
    "# Call the function\n",
    "bc = create_newmodel(bc)"
   ]
  },
  {
   "cell_type": "code",
   "execution_count": 66,
   "metadata": {
    "executionInfo": {
     "elapsed": 23,
     "status": "ok",
     "timestamp": 1644230500931,
     "user": {
      "displayName": "Chetan Kate",
      "photoUrl": "https://lh3.googleusercontent.com/a/default-user=s64",
      "userId": "14148496702909736816"
     },
     "user_tz": -330
    },
    "id": "gMPON7EoxQqp"
   },
   "outputs": [],
   "source": [
    "# Create the object of BaggingClassifier class\n",
    "bc2 = BaggingClassifier(DecisionTreeClassifier(),n_estimators=10,max_samples=704,random_state=1)"
   ]
  },
  {
   "cell_type": "code",
   "execution_count": 67,
   "metadata": {
    "colab": {
     "base_uri": "https://localhost:8080/"
    },
    "executionInfo": {
     "elapsed": 23,
     "status": "ok",
     "timestamp": 1644230500932,
     "user": {
      "displayName": "Chetan Kate",
      "photoUrl": "https://lh3.googleusercontent.com/a/default-user=s64",
      "userId": "14148496702909736816"
     },
     "user_tz": -330
    },
    "id": "hnTqEVrUxd81",
    "outputId": "d123e283-c03b-48a8-88a5-ed447f640edb"
   },
   "outputs": [
    {
     "name": "stdout",
     "output_type": "stream",
     "text": [
      "              precision    recall  f1-score   support\n",
      "\n",
      "           0       0.72      0.78      0.75      1585\n",
      "           1       0.76      0.69      0.73      1585\n",
      "\n",
      "    accuracy                           0.74      3170\n",
      "   macro avg       0.74      0.74      0.74      3170\n",
      "weighted avg       0.74      0.74      0.74      3170\n",
      "\n",
      "Confusion matrix\n",
      "[[1243  342]\n",
      " [ 486 1099]]\n"
     ]
    }
   ],
   "source": [
    "# Call the function\n",
    "bc2 = create_newmodel(bc2)"
   ]
  },
  {
   "cell_type": "markdown",
   "metadata": {
    "id": "5Em_Ro-quZIZ"
   },
   "source": [
    "**Random Forest Tree**"
   ]
  },
  {
   "cell_type": "code",
   "execution_count": 68,
   "metadata": {
    "executionInfo": {
     "elapsed": 18,
     "status": "ok",
     "timestamp": 1644230500932,
     "user": {
      "displayName": "Chetan Kate",
      "photoUrl": "https://lh3.googleusercontent.com/a/default-user=s64",
      "userId": "14148496702909736816"
     },
     "user_tz": -330
    },
    "id": "uK6Fhle6uXIw"
   },
   "outputs": [],
   "source": [
    "# Random Forest Tree\n",
    "# Call the random forest tree from package.\n",
    "# This will remove the overfitting of the dataset.\n",
    "from sklearn.ensemble import RandomForestClassifier                                      "
   ]
  },
  {
   "cell_type": "code",
   "execution_count": 69,
   "metadata": {
    "executionInfo": {
     "elapsed": 562,
     "status": "ok",
     "timestamp": 1644230900461,
     "user": {
      "displayName": "Chetan Kate",
      "photoUrl": "https://lh3.googleusercontent.com/a/default-user=s64",
      "userId": "14148496702909736816"
     },
     "user_tz": -330
    },
    "id": "94B9WIwpxEta"
   },
   "outputs": [],
   "source": [
    "# Create the object of RandomForestClassifier\n",
    "rfc = RandomForestClassifier(n_estimators=10,max_features=11,random_state=1)"
   ]
  },
  {
   "cell_type": "code",
   "execution_count": 70,
   "metadata": {
    "colab": {
     "base_uri": "https://localhost:8080/"
    },
    "executionInfo": {
     "elapsed": 5,
     "status": "ok",
     "timestamp": 1644230901118,
     "user": {
      "displayName": "Chetan Kate",
      "photoUrl": "https://lh3.googleusercontent.com/a/default-user=s64",
      "userId": "14148496702909736816"
     },
     "user_tz": -330
    },
    "id": "4e9mNSYCxLbg",
    "outputId": "35883f66-0f49-419a-99ae-639d7faa7dd0"
   },
   "outputs": [
    {
     "name": "stdout",
     "output_type": "stream",
     "text": [
      "              precision    recall  f1-score   support\n",
      "\n",
      "           0       0.66      0.85      0.74      1585\n",
      "           1       0.79      0.56      0.66      1585\n",
      "\n",
      "    accuracy                           0.71      3170\n",
      "   macro avg       0.73      0.71      0.70      3170\n",
      "weighted avg       0.73      0.71      0.70      3170\n",
      "\n",
      "Confusion matrix\n",
      "[[1349  236]\n",
      " [ 692  893]]\n"
     ]
    }
   ],
   "source": [
    "# Call the function\n",
    "rfc = create_newmodel(rfc)"
   ]
  },
  {
   "cell_type": "markdown",
   "metadata": {
    "id": "xJJiM69Px78U"
   },
   "source": [
    "**Boosting**"
   ]
  },
  {
   "cell_type": "code",
   "execution_count": 71,
   "metadata": {
    "executionInfo": {
     "elapsed": 370,
     "status": "ok",
     "timestamp": 1644230620786,
     "user": {
      "displayName": "Chetan Kate",
      "photoUrl": "https://lh3.googleusercontent.com/a/default-user=s64",
      "userId": "14148496702909736816"
     },
     "user_tz": -330
    },
    "id": "K8VDNPlNxNAY"
   },
   "outputs": [],
   "source": [
    "# ADA Boost\n",
    "from sklearn.ensemble import AdaBoostClassifier\n",
    "# AdaptorClassifier inbuilt class for ADA Boost , call this class from sklearn ensemble i.e Package"
   ]
  },
  {
   "cell_type": "code",
   "execution_count": 72,
   "metadata": {
    "executionInfo": {
     "elapsed": 370,
     "status": "ok",
     "timestamp": 1644230720292,
     "user": {
      "displayName": "Chetan Kate",
      "photoUrl": "https://lh3.googleusercontent.com/a/default-user=s64",
      "userId": "14148496702909736816"
     },
     "user_tz": -330
    },
    "id": "5hqY7Ra7yDEw"
   },
   "outputs": [],
   "source": [
    "#Create the object of AdaBoostClassifier class and passing the no. of parameter in this class\n",
    "ada=AdaBoostClassifier(n_estimators=80) # n_estimators can be <=100"
   ]
  },
  {
   "cell_type": "code",
   "execution_count": 73,
   "metadata": {
    "colab": {
     "base_uri": "https://localhost:8080/"
    },
    "executionInfo": {
     "elapsed": 1213,
     "status": "ok",
     "timestamp": 1644230723263,
     "user": {
      "displayName": "Chetan Kate",
      "photoUrl": "https://lh3.googleusercontent.com/a/default-user=s64",
      "userId": "14148496702909736816"
     },
     "user_tz": -330
    },
    "id": "6n4_WZKxyE7F",
    "outputId": "5f126b6b-cc81-46bb-cbcd-a048d50b1408"
   },
   "outputs": [
    {
     "name": "stdout",
     "output_type": "stream",
     "text": [
      "              precision    recall  f1-score   support\n",
      "\n",
      "           0       0.81      0.73      0.77      1585\n",
      "           1       0.75      0.83      0.79      1585\n",
      "\n",
      "    accuracy                           0.78      3170\n",
      "   macro avg       0.78      0.78      0.78      3170\n",
      "weighted avg       0.78      0.78      0.78      3170\n",
      "\n",
      "Confusion matrix\n",
      "[[1154  431]\n",
      " [ 272 1313]]\n"
     ]
    }
   ],
   "source": [
    "# Call the function\n",
    "ada = create_newmodel(ada)"
   ]
  },
  {
   "cell_type": "code",
   "execution_count": 74,
   "metadata": {
    "executionInfo": {
     "elapsed": 360,
     "status": "ok",
     "timestamp": 1644230743119,
     "user": {
      "displayName": "Chetan Kate",
      "photoUrl": "https://lh3.googleusercontent.com/a/default-user=s64",
      "userId": "14148496702909736816"
     },
     "user_tz": -330
    },
    "id": "4CUD9h1ayLaU"
   },
   "outputs": [],
   "source": [
    "#call GradientBoostingClassifier class from following package\n",
    "from sklearn.ensemble import GradientBoostingClassifier"
   ]
  },
  {
   "cell_type": "code",
   "execution_count": 75,
   "metadata": {
    "executionInfo": {
     "elapsed": 376,
     "status": "ok",
     "timestamp": 1644230756833,
     "user": {
      "displayName": "Chetan Kate",
      "photoUrl": "https://lh3.googleusercontent.com/a/default-user=s64",
      "userId": "14148496702909736816"
     },
     "user_tz": -330
    },
    "id": "EYcCiSeVyhB0"
   },
   "outputs": [],
   "source": [
    "# Create the object of GradientBoostingClassifier class\n",
    "gbc = GradientBoostingClassifier(n_estimators= 80) # not <= 100"
   ]
  },
  {
   "cell_type": "code",
   "execution_count": 76,
   "metadata": {
    "colab": {
     "base_uri": "https://localhost:8080/"
    },
    "executionInfo": {
     "elapsed": 1967,
     "status": "ok",
     "timestamp": 1644230787165,
     "user": {
      "displayName": "Chetan Kate",
      "photoUrl": "https://lh3.googleusercontent.com/a/default-user=s64",
      "userId": "14148496702909736816"
     },
     "user_tz": -330
    },
    "id": "_0P9miSIyiZr",
    "outputId": "c31eac55-44f0-4076-c1bd-47d7e5dccfc0"
   },
   "outputs": [
    {
     "name": "stdout",
     "output_type": "stream",
     "text": [
      "              precision    recall  f1-score   support\n",
      "\n",
      "           0       0.80      0.73      0.77      1585\n",
      "           1       0.75      0.82      0.79      1585\n",
      "\n",
      "    accuracy                           0.78      3170\n",
      "   macro avg       0.78      0.78      0.78      3170\n",
      "weighted avg       0.78      0.78      0.78      3170\n",
      "\n",
      "Confusion matrix\n",
      "[[1162  423]\n",
      " [ 287 1298]]\n"
     ]
    }
   ],
   "source": [
    "# Call the function\n",
    "gbc = create_newmodel(gbc)"
   ]
  },
  {
   "cell_type": "code",
   "execution_count": 77,
   "metadata": {
    "executionInfo": {
     "elapsed": 6,
     "status": "ok",
     "timestamp": 1644230813213,
     "user": {
      "displayName": "Chetan Kate",
      "photoUrl": "https://lh3.googleusercontent.com/a/default-user=s64",
      "userId": "14148496702909736816"
     },
     "user_tz": -330
    },
    "id": "qYR2srMTyrO9"
   },
   "outputs": [],
   "source": [
    "#install the external package from python community first for XGBoost\n",
    "# !pip install xgboost"
   ]
  },
  {
   "cell_type": "code",
   "execution_count": 78,
   "metadata": {
    "executionInfo": {
     "elapsed": 480,
     "status": "ok",
     "timestamp": 1644230821053,
     "user": {
      "displayName": "Chetan Kate",
      "photoUrl": "https://lh3.googleusercontent.com/a/default-user=s64",
      "userId": "14148496702909736816"
     },
     "user_tz": -330
    },
    "id": "yGYeOiwcywLr"
   },
   "outputs": [],
   "source": [
    "from xgboost import XGBClassifier"
   ]
  },
  {
   "cell_type": "code",
   "execution_count": 79,
   "metadata": {
    "executionInfo": {
     "elapsed": 374,
     "status": "ok",
     "timestamp": 1644230845603,
     "user": {
      "displayName": "Chetan Kate",
      "photoUrl": "https://lh3.googleusercontent.com/a/default-user=s64",
      "userId": "14148496702909736816"
     },
     "user_tz": -330
    },
    "id": "3jxlFLuTyz-i"
   },
   "outputs": [],
   "source": [
    "# Create the object \n",
    "xg = XGBClassifier(n_estimators = 40,reg_alpha = 1)\n",
    "# Automatic overfitting : reg means regularization and alpha or lmabda = pyprtparameter"
   ]
  },
  {
   "cell_type": "code",
   "execution_count": 80,
   "metadata": {
    "colab": {
     "base_uri": "https://localhost:8080/"
    },
    "executionInfo": {
     "elapsed": 1005,
     "status": "ok",
     "timestamp": 1644230856702,
     "user": {
      "displayName": "Chetan Kate",
      "photoUrl": "https://lh3.googleusercontent.com/a/default-user=s64",
      "userId": "14148496702909736816"
     },
     "user_tz": -330
    },
    "id": "V6tpcL-sy6Ci",
    "outputId": "836d7b5f-0eb7-4a64-e0a4-9d8563ccc670"
   },
   "outputs": [
    {
     "name": "stdout",
     "output_type": "stream",
     "text": [
      "[12:31:33] WARNING: C:/Users/Administrator/workspace/xgboost-win64_release_1.5.1/src/learner.cc:1115: Starting in XGBoost 1.3.0, the default evaluation metric used with the objective 'binary:logistic' was changed from 'error' to 'logloss'. Explicitly set eval_metric if you'd like to restore the old behavior.\n",
      "              precision    recall  f1-score   support\n",
      "\n",
      "           0       0.75      0.77      0.76      1585\n",
      "           1       0.77      0.74      0.76      1585\n",
      "\n",
      "    accuracy                           0.76      3170\n",
      "   macro avg       0.76      0.76      0.76      3170\n",
      "weighted avg       0.76      0.76      0.76      3170\n",
      "\n",
      "Confusion matrix\n",
      "[[1228  357]\n",
      " [ 407 1178]]\n"
     ]
    }
   ],
   "source": [
    "# call the funciton\n",
    "xg = create_newmodel(xg)"
   ]
  },
  {
   "cell_type": "code",
   "execution_count": 81,
   "metadata": {
    "colab": {
     "base_uri": "https://localhost:8080/"
    },
    "executionInfo": {
     "elapsed": 5140,
     "status": "ok",
     "timestamp": 1644230938709,
     "user": {
      "displayName": "Chetan Kate",
      "photoUrl": "https://lh3.googleusercontent.com/a/default-user=s64",
      "userId": "14148496702909736816"
     },
     "user_tz": -330
    },
    "id": "G3FvJ3Rny7Sj",
    "outputId": "c6b29057-e081-40b6-c11f-ae71d808a291"
   },
   "outputs": [],
   "source": [
    "# First install the library\n",
    "# !pip install mlxtend"
   ]
  },
  {
   "cell_type": "code",
   "execution_count": 82,
   "metadata": {
    "id": "OL2w4fmtzT1R"
   },
   "outputs": [],
   "source": [
    "# StackingClassifier inbuilt class which define the inbuilt package mlxtend.classifier\n",
    "from mlxtend.classifier import StackingClassifier"
   ]
  },
  {
   "cell_type": "code",
   "execution_count": 83,
   "metadata": {},
   "outputs": [],
   "source": [
    "# Take the LogisticRegression Algorithnms for the metaclassifier\n",
    "# Also create a object of LogisticRegression\n",
    "meta = LogisticRegression()"
   ]
  },
  {
   "cell_type": "code",
   "execution_count": 84,
   "metadata": {},
   "outputs": [],
   "source": [
    "# Create the model list\n",
    "model_list = [lr,dt2,dt4]\n",
    "# Create the object of StackingClassifier Class and passing the parameters\n",
    "sc = StackingClassifier(classifiers=model_list,meta_classifier=meta)"
   ]
  },
  {
   "cell_type": "code",
   "execution_count": 85,
   "metadata": {},
   "outputs": [
    {
     "name": "stdout",
     "output_type": "stream",
     "text": [
      "              precision    recall  f1-score   support\n",
      "\n",
      "           0       0.77      0.74      0.76      1585\n",
      "           1       0.75      0.78      0.76      1585\n",
      "\n",
      "    accuracy                           0.76      3170\n",
      "   macro avg       0.76      0.76      0.76      3170\n",
      "weighted avg       0.76      0.76      0.76      3170\n",
      "\n",
      "Confusion matrix\n",
      "[[1177  408]\n",
      " [ 353 1232]]\n"
     ]
    }
   ],
   "source": [
    "# Call the function\n",
    "sc = create_newmodel(sc)"
   ]
  },
  {
   "cell_type": "code",
   "execution_count": 86,
   "metadata": {},
   "outputs": [],
   "source": [
    "#Linear Kernel function means data is linearly separately\n",
    "#use inbuilt class Linear SVC which define in svm inbuilt package\n",
    "from sklearn.svm import LinearSVC\n",
    "\n",
    "\n",
    "#create the object of LinearSVC class\n",
    "svc=LinearSVC(random_state=1)"
   ]
  },
  {
   "cell_type": "code",
   "execution_count": 87,
   "metadata": {},
   "outputs": [
    {
     "name": "stdout",
     "output_type": "stream",
     "text": [
      "              precision    recall  f1-score   support\n",
      "\n",
      "           0       0.81      0.73      0.76      1585\n",
      "           1       0.75      0.83      0.79      1585\n",
      "\n",
      "    accuracy                           0.78      3170\n",
      "   macro avg       0.78      0.78      0.78      3170\n",
      "weighted avg       0.78      0.78      0.78      3170\n",
      "\n",
      "Confusion matrix\n",
      "[[1151  434]\n",
      " [ 277 1308]]\n"
     ]
    }
   ],
   "source": [
    "#call function\n",
    "svc=create_newmodel(svc)"
   ]
  },
  {
   "cell_type": "markdown",
   "metadata": {},
   "source": [
    "### Score not bad but try its better"
   ]
  },
  {
   "cell_type": "code",
   "execution_count": 88,
   "metadata": {},
   "outputs": [],
   "source": [
    "# Apply soft margin means add externally error on training time \n",
    "# Create the object of inbuilt class LinearSVC and Passing parameter C for error\n",
    "svc1=LinearSVC(random_state=1,C=0.05)  # Soft margin"
   ]
  },
  {
   "cell_type": "code",
   "execution_count": 89,
   "metadata": {},
   "outputs": [
    {
     "name": "stdout",
     "output_type": "stream",
     "text": [
      "              precision    recall  f1-score   support\n",
      "\n",
      "           0       0.81      0.73      0.76      1585\n",
      "           1       0.75      0.83      0.79      1585\n",
      "\n",
      "    accuracy                           0.78      3170\n",
      "   macro avg       0.78      0.78      0.78      3170\n",
      "weighted avg       0.78      0.78      0.78      3170\n",
      "\n",
      "Confusion matrix\n",
      "[[1151  434]\n",
      " [ 277 1308]]\n"
     ]
    }
   ],
   "source": [
    "# Call the function\n",
    "svc1 = create_newmodel(svc1)"
   ]
  },
  {
   "cell_type": "markdown",
   "metadata": {},
   "source": [
    "###  Score is not good but the same , so its Non_Linear data\n",
    "##### Here , if add external error on runtime but no changes in score means no effect on score. means we have data is non- linear data, not linear dataset. So, we will use polynomial kernal funciton means increase the dimension means to convert the low dimension data into high dimension means if plot 1D then converting into 2D dimension and so on."
   ]
  },
  {
   "cell_type": "code",
   "execution_count": 90,
   "metadata": {},
   "outputs": [],
   "source": [
    "# Polynominal kernel function (non-linear)\n",
    "from sklearn.svm import SVC\n",
    "# SVC inbuilt class for non linear data"
   ]
  },
  {
   "cell_type": "code",
   "execution_count": 91,
   "metadata": {},
   "outputs": [],
   "source": [
    "# Create the object of SVC CLASS\n",
    "poly_svc=SVC(random_state=1,kernel='poly')"
   ]
  },
  {
   "cell_type": "code",
   "execution_count": 92,
   "metadata": {},
   "outputs": [
    {
     "name": "stdout",
     "output_type": "stream",
     "text": [
      "              precision    recall  f1-score   support\n",
      "\n",
      "           0       0.75      0.74      0.74      1585\n",
      "           1       0.74      0.76      0.75      1585\n",
      "\n",
      "    accuracy                           0.75      3170\n",
      "   macro avg       0.75      0.75      0.75      3170\n",
      "weighted avg       0.75      0.75      0.75      3170\n",
      "\n",
      "Confusion matrix\n",
      "[[1170  415]\n",
      " [ 386 1199]]\n"
     ]
    }
   ],
   "source": [
    "# Call the function\n",
    "poly_svc = create_newmodel(poly_svc)"
   ]
  },
  {
   "cell_type": "code",
   "execution_count": 93,
   "metadata": {},
   "outputs": [],
   "source": [
    "# Radial basis kernel function (non-linearly)\n",
    "r_svc=SVC(random_state=1,kernel='rbf')\n",
    "# rbf = Radial Basis Function"
   ]
  },
  {
   "cell_type": "code",
   "execution_count": 94,
   "metadata": {},
   "outputs": [
    {
     "name": "stdout",
     "output_type": "stream",
     "text": [
      "              precision    recall  f1-score   support\n",
      "\n",
      "           0       0.76      0.75      0.75      1585\n",
      "           1       0.75      0.76      0.76      1585\n",
      "\n",
      "    accuracy                           0.76      3170\n",
      "   macro avg       0.76      0.76      0.76      3170\n",
      "weighted avg       0.76      0.76      0.76      3170\n",
      "\n",
      "Confusion matrix\n",
      "[[1191  394]\n",
      " [ 381 1204]]\n"
     ]
    }
   ],
   "source": [
    "# Call the function\n",
    "r_svc = create_newmodel(r_svc)"
   ]
  },
  {
   "cell_type": "markdown",
   "metadata": {},
   "source": [
    "### Summary: \n",
    "##### Model Summary\n",
    "Looking at model results, the best accuracy on the test set is achieved by the Logistic Rgression score (recall = 0.73 and precision = 0.82) . Given the high imbalance of the data towards non-churners, it makes sense to compare F1 scores to get the model with the best score on jointly precision and recall. This would also be the Logistic Regression  with a F1 score of 0.78.\n",
    "Given the scores of the best performing models, it can be observed that F1 scores are not much above 50%. Further optimization efforts should be carried out to achieve a higher scores and thereby increase prediction power for more business value."
   ]
  },
  {
   "cell_type": "code",
   "execution_count": null,
   "metadata": {},
   "outputs": [],
   "source": []
  }
 ],
 "metadata": {
  "colab": {
   "authorship_tag": "ABX9TyMZnuZLCEXmie0JbTYS08pb",
   "collapsed_sections": [],
   "mount_file_id": "16cU75y_T4ttLQQSkxSmaHsbU7Y2AL4Y9",
   "name": "Untitled0.ipynb",
   "provenance": []
  },
  "kernelspec": {
   "display_name": "Python 3 (ipykernel)",
   "language": "python",
   "name": "python3"
  },
  "language_info": {
   "codemirror_mode": {
    "name": "ipython",
    "version": 3
   },
   "file_extension": ".py",
   "mimetype": "text/x-python",
   "name": "python",
   "nbconvert_exporter": "python",
   "pygments_lexer": "ipython3",
   "version": "3.9.7"
  }
 },
 "nbformat": 4,
 "nbformat_minor": 1
}
